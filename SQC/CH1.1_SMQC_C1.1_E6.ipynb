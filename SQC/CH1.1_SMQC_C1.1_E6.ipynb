{
 "cells": [
  {
   "cell_type": "markdown",
   "metadata": {},
   "source": [
    "## Capítulo 1.1.: Modelos estadísticos para control de calidad"
   ]
  },
  {
   "cell_type": "markdown",
   "metadata": {},
   "source": [
    "### Caso 1.1.1: Análisis de capacidad de proceso"
   ]
  },
  {
   "cell_type": "code",
   "execution_count": 8,
   "metadata": {},
   "outputs": [],
   "source": [
    "import numpy as np\n",
    "import math\n",
    "import scipy.stats as st"
   ]
  },
  {
   "cell_type": "markdown",
   "metadata": {},
   "source": [
    "#### Ejemplo 6:"
   ]
  },
  {
   "cell_type": "markdown",
   "metadata": {},
   "source": [
    "Una reconocida institución de cursos en línea se encuentra ante una incertidumbre pues su operador de redes e internet les notificó la semana pasada formalmente que dejará de funcionar en tres (3) meses. Al rescate ha surgido una nueva empresa en el mercado proveniente de España que le hizo una oferta económicamente atractiva a la institución, sin embargo el CEO de la institución les advirtió lo siguiente a través de un correo:\n",
    "\n",
    "    \"Respetados Operador Español,\n",
    "\n",
    "    Estamos muy agradecidos por la oportuna oferta, pero dejeme advertiles que la velocidad de transferencia de datos promedio que requiere esta institución es de 375 Mbps, y dicho valor puede discrepar máximo en 20 Mbps.*\n",
    "\n",
    "    Llevamos trabajando más de quince (15) años de la mano de nuestro actual operador. Ustedes entenderán que esto se trata de establecer una nueva relación de negocios (y de confianza) que deberemos emprender, así que estudiaremos estrictamente las opciones que tengamos a la mano antes de tomar cualquier decisión, pues quienes contraten con nosotros deberán cumplir estrictamente con nuestras especificaciones en todo momento como lo venía haciendo nuestro actual y próximamente antiguo operador.*\n",
    "\n",
    "    Agradezco de antemano la atención prestada,\n",
    "\n",
    "    Cordialmente,\n",
    "    Jose Mantilla Solano\n",
    "    CEO\" \n",
    "\n",
    "Luego de recibir el correo electrónico, el Gerente del Operador de Red respondió lo siguiente:\n",
    "\n",
    "    \"Respetado Jose Mantilla Solano,\n",
    "     CEO Institución.\n",
    "    \n",
    "    No os preocupeís estimado! Por el contrario, sepa usted que nuestra velocidad promedio de transferencia de datos para clientes corporativos es de 370 Mbps acompañado de una desviación típica de 11 Mbps.\n",
    "\n",
    "    Somos reconocidos en España por prestar un excelente servicio de calidad y contamos con canales de soporte al cliente las 24 horas del día. Nos gustaría que considerara responder a nuestra oferta en el más corto de los términos, pero sabemos muy bien que las relaciones de confianza tardan años en consolidarse. Por esta razón, le aseguro que los parámetros que le ofrezco serán más que suficientes para soportar e impulsar su negocio.\n",
    "\n",
    "    Espero atento a su respuesta.\n",
    "\n",
    "    Rafael Cervantez Silva,\n",
    "    Gerente Comercial\"\n",
    "\n",
    "Ante tal respuesta, el CEO de la Institución se mostró suspicaz por lo que llamó a su empleado experto en Aseguramiento y Control de la Calidad quien decidió hacer un análisis de la capacidad del proceso utilizando los parámetros que les compartió el gerente comercial."
   ]
  },
  {
   "cell_type": "markdown",
   "metadata": {},
   "source": [
    "**a) Estimar la Capacidad Potencial (Cp):**\n",
    "\n",
    "R/ Se sabe que el índice de capacidad del proceso Cp esta dado por:\n",
    "\n",
    "$$\\rightarrow C_{p}=\\frac{T}{6\\sigma'}$$\n",
    "\n",
    "Y:\n",
    "$$\\rightarrow T = 2\\nabla = LSE - LIE$$\n",
    "\n",
    "Donde:\n",
    "* $\\nabla$ es la discrepancia y de ahora en adelante se le asignará la letra 'D', \n",
    "* $\\sigma'$ que es la desviación estándar se le asignará la letra 's',y \n",
    "* 'T' es la tolerancia. \n",
    "\n",
    "A continuación se procederá determinar la capacidad del proceso:"
   ]
  },
  {
   "cell_type": "code",
   "execution_count": 19,
   "metadata": {},
   "outputs": [
    {
     "name": "stdout",
     "output_type": "stream",
     "text": [
      "0.6060606060606061\n"
     ]
    }
   ],
   "source": [
    "D = 20\n",
    "VN = 375\n",
    "LIE = VN - D\n",
    "LSE = VN + D\n",
    "T = 2*D\n",
    "s = 11 # Se toma s como el mejor estimador de sigma.\n",
    "\n",
    "Cp = T/(6*s)\n",
    "print(Cp)"
   ]
  },
  {
   "cell_type": "markdown",
   "metadata": {},
   "source": [
    "Dado que $C_{p} < 0.67$ entonces esto indica que el proceso tiene una muy pobre capacidad de ofrecer una velocidad de transferencia dentro de las especificaciones, y según los criterios se trata de un proceso no adecuado para el trabajo, por lo que requiere modificaciones serias."
   ]
  },
  {
   "cell_type": "markdown",
   "metadata": {},
   "source": [
    "**b) Estimar la Capacidad Real (Cpk):**\n",
    "\n",
    "R/ Cuando el proceso no está centrado, se emplea el **índice de capacidad unilateral** o **índice de capacidad real (Cpk)**:\n",
    "\n",
    "$$\\rightarrow C_{pk}=min(C_{pki}, C_{pks})$$\n",
    "\n",
    "$$\\rightarrow C_{pk}=min(C_{pki}=\\frac{\\bar{X'}-LIE}{3\\sigma'}, C_{pks}=\\frac{LSE-\\bar{X'}}{3\\sigma'})$$\n",
    "\n",
    "Donde:\n",
    "\n",
    "* $\\bar{X'}$ es la media del proceso, y\n",
    "* $\\sigma'$ es la desviación del proceso.\n",
    "\n",
    "Por tanto, el índice Cpk es:"
   ]
  },
  {
   "cell_type": "code",
   "execution_count": 20,
   "metadata": {},
   "outputs": [
    {
     "name": "stdout",
     "output_type": "stream",
     "text": [
      "Cpki = 0.45\n",
      "Cpks = 0.76\n",
      "Cpk = 0.45\n"
     ]
    }
   ],
   "source": [
    "X = 370 # Se toma X' como el mejor estimador de mu\n",
    "\n",
    "Cpki = np.round((X - LIE)/(3*s),2)\n",
    "Cpks = np.round((LSE - X)/(3*s),2)\n",
    "\n",
    "Cpk = np.min([Cpki, Cpks])\n",
    "\n",
    "print(\"Cpki = \"+ str(Cpki))\n",
    "print(\"Cpks = \"+ str(Cpks))\n",
    "print(\"Cpk = \"+ str(Cpk))"
   ]
  },
  {
   "cell_type": "markdown",
   "metadata": {},
   "source": [
    "Dado que Cpk $\\approx$ 0.45, esto confirma que el proceso no es realmente capaz y por lo menos tiende a no cumplir con una de las especificaciones de calidad. Dicho lo anterior, tal parece que no se está cumpliendo en mayor medida con el límite inferior de calidad, pues corresponde a Cpki $\\approx$ 0.45. De igual forma, el proceso tampoco parece cumplir con el límite superior de especificación, ya que Cpks $\\approx$ 0.76."
   ]
  },
  {
   "cell_type": "markdown",
   "metadata": {},
   "source": [
    "**c) Calcule los límites de fluctuación natural del proceso (LFNP):**\n",
    "\n",
    "R/ Se tiene que los límites de fluctuación natural del proceso están dados por la siguiente fórmula:\n",
    "\n",
    "$$\\rightarrow LFN_{i,s} = \\bar{X'} \\pm 3\\sigma'$$\n",
    "\n",
    "Donde:\n",
    "\n",
    "* $\\bar{X'}$ es la media del proceso, y\n",
    "* $\\sigma'$ es la desviación estándar del proceso.\n",
    "\n",
    "Entonces, los límites de fluctuación son:"
   ]
  },
  {
   "cell_type": "code",
   "execution_count": 21,
   "metadata": {},
   "outputs": [
    {
     "name": "stdout",
     "output_type": "stream",
     "text": [
      "LIFN = 337 y LSFN = 403\n"
     ]
    }
   ],
   "source": [
    "LIFN = np.round(X - 3*s,4)\n",
    "LSFN = np.round(X + 3*s,4)\n",
    "\n",
    "print(\"LIFN = \" + str(LIFN) + \" y LSFN = \" + str(LSFN))"
   ]
  },
  {
   "cell_type": "markdown",
   "metadata": {},
   "source": [
    "Se compara si LIFN es mayor o igual a LIE y si LSFN es menor o igual a LSE:"
   ]
  },
  {
   "cell_type": "code",
   "execution_count": 23,
   "metadata": {},
   "outputs": [
    {
     "name": "stdout",
     "output_type": "stream",
     "text": [
      "False False\n"
     ]
    }
   ],
   "source": [
    "print(LIFN>=LIE, LSFN<=LSE)"
   ]
  },
  {
   "cell_type": "markdown",
   "metadata": {},
   "source": [
    "Se confirma que ninguno de los límites de fluctuación natural del proceso se encuentran dentro de las especificaciones de calidad."
   ]
  },
  {
   "cell_type": "markdown",
   "metadata": {},
   "source": [
    "**d) Dado que para contratar al operador es prioritario que la velocidad de transferencia cumpla con los requerimientos mínimos de calidad, y además, las velocidades de transferencia por encima de la espeficicación superior no representan un problema. Por el momento al CEO solo le interesa saber ¿Qué porcentaje de las conexiones no cumplen con el límite inferior de especificación?**"
   ]
  },
  {
   "cell_type": "markdown",
   "metadata": {},
   "source": [
    "R/ Inicialmente se debe determinar el valor Z estandarizado para dicho límite (LIE). Esto se obtiene con la siguiente fórmula:\n",
    "\n",
    "$$\\rightarrow Z_{inf}=\\frac{LIE-\\bar{X'}}{\\sigma'}$$\n",
    "\n",
    "Obteniendo el siguiente resultado:"
   ]
  },
  {
   "cell_type": "code",
   "execution_count": 24,
   "metadata": {},
   "outputs": [
    {
     "name": "stdout",
     "output_type": "stream",
     "text": [
      "-1.3636\n"
     ]
    }
   ],
   "source": [
    "Zinf = np.round((LIE - X)/s,4)\n",
    "print(Zinf)"
   ]
  },
  {
   "cell_type": "code",
   "execution_count": 25,
   "metadata": {},
   "outputs": [
    {
     "name": "stdout",
     "output_type": "stream",
     "text": [
      "0.0863\n"
     ]
    }
   ],
   "source": [
    "P = np.round(st.norm.cdf(Zinf),4)\n",
    "print(P)"
   ]
  },
  {
   "cell_type": "markdown",
   "metadata": {},
   "source": [
    "Es decir que la proporción de veces que el operador estaría por debajo del límite inferior de especificación es del 8.63%. El porcentaje es relativamente bajo, representarían aproximadamente 863 de cada 10.000 conexiones, pero se podría mejorar reduciendo un poco más la variabilidad del proceso."
   ]
  },
  {
   "cell_type": "markdown",
   "metadata": {},
   "source": [
    "**e) Suponiendo que se pudiera reducir drásticamente la variabilidad del proceso, ¿Qué valor máximo debería tener la desviación estándar para que a lo sumo 3% de las veces se incumpla con el límite inferior de especificación?**"
   ]
  },
  {
   "cell_type": "markdown",
   "metadata": {},
   "source": [
    "Inicialmente se debe despejar $\\sigma'$ de la fórmula de Z estandarizado inferior, así:\n",
    "\n",
    "$$Z_{inf}=\\frac{LIE-\\bar{X'}}{\\sigma'}\\rightarrow\\sigma'_{inf}=\\frac{LIE-\\bar{X'}}{Z_{inf}}$$\n",
    "\n",
    "Donde:\n",
    "* $Z_{inf}$ es el valor de Z estandarizado inferior que representa una probabilidad de 3.0% de obtener velocidades de transferencia por debajo de LIE.\n",
    "\n",
    "Por lo tanto:"
   ]
  },
  {
   "cell_type": "code",
   "execution_count": 28,
   "metadata": {},
   "outputs": [
    {
     "name": "stdout",
     "output_type": "stream",
     "text": [
      "Zinf = -1.8808\n"
     ]
    }
   ],
   "source": [
    "VO_inf = 0.03\n",
    "Zinf_vo = np.round(st.norm.ppf(VO_inf),4)\n",
    "\n",
    "print(\"Zinf = \"+str(Zinf_vo))"
   ]
  },
  {
   "cell_type": "markdown",
   "metadata": {},
   "source": [
    "Entonces, los valores entre los cuales puede oscilar $\\sigma'$ para que la velocidad no cumpla con las especificaciones en máximo 3.0% de las veces son:"
   ]
  },
  {
   "cell_type": "code",
   "execution_count": 29,
   "metadata": {},
   "outputs": [
    {
     "name": "stdout",
     "output_type": "stream",
     "text": [
      "Sinf = 7.97533\n"
     ]
    }
   ],
   "source": [
    "s_inf_vo = np.round((LIE - X)/Zinf_vo,5) # Cuando el proceso genera velocidades por debajo del LIE el 3% de las veces.\n",
    "print(\"Sinf = \" + str(s_inf_vo))"
   ]
  },
  {
   "cell_type": "markdown",
   "metadata": {},
   "source": [
    "Por tanto, el proceso debe tener mejorar su precisión debido a que la desviación estándar debe ser máximo 7.97 Mbps para obtener a lo sumo 3% de velocidades por debajo del LIE."
   ]
  }
 ],
 "metadata": {
  "kernelspec": {
   "display_name": "Python 3",
   "language": "python",
   "name": "python3"
  },
  "language_info": {
   "codemirror_mode": {
    "name": "ipython",
    "version": 3
   },
   "file_extension": ".py",
   "mimetype": "text/x-python",
   "name": "python",
   "nbconvert_exporter": "python",
   "pygments_lexer": "ipython3",
   "version": "3.7.3"
  }
 },
 "nbformat": 4,
 "nbformat_minor": 2
}
