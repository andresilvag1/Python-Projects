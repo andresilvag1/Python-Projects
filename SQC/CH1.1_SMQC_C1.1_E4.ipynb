{
 "cells": [
  {
   "cell_type": "markdown",
   "metadata": {},
   "source": [
    "## Capítulo 1.1.: Modelos estadísticos para control de calidad"
   ]
  },
  {
   "cell_type": "markdown",
   "metadata": {},
   "source": [
    "### Caso 1.1.1: Análisis de capacidad de proceso"
   ]
  },
  {
   "cell_type": "code",
   "execution_count": 20,
   "metadata": {},
   "outputs": [],
   "source": [
    "import numpy as np\n",
    "import math\n",
    "import scipy.stats as st"
   ]
  },
  {
   "cell_type": "markdown",
   "metadata": {},
   "source": [
    "#### Ejemplo 4:"
   ]
  },
  {
   "cell_type": "markdown",
   "metadata": {},
   "source": [
    "Un proceso está bajo control con $\\bar{X'} = 100$ y $s = 1.05$. Las especificaciones del proceso son $95 \\pm 10$.La característica de calidad tiene una distribución normal.\n",
    "* **a) Estimar la Capacidad Potencial (Cp).**\n",
    "* **b) Estimar la Capacidad Real (Cpk).**\n",
    "* **c) ¿Qué sucedería con la fluctuación natural del proceso si éste se corrigiera para operar en la especificación nominal?**"
   ]
  },
  {
   "cell_type": "markdown",
   "metadata": {},
   "source": [
    "**a)**\n",
    "\n",
    "R/ Se sabe que el índice de capacidad del proceso Cp esta dado por:\n",
    "\n",
    "$$\\rightarrow C_{p}=\\frac{T}{6\\sigma'}$$\n",
    "\n",
    "Y:\n",
    "$$\\rightarrow T = 2\\nabla = LSE - LIE$$\n",
    "\n",
    "Donde:\n",
    "* $\\nabla$ es la discrepancia y de ahora en adelante se le asignará la letra 'D', \n",
    "* $\\sigma'$ que es la desviación estándar se le asignará la letra 's',y \n",
    "* 'T' es la tolerancia. \n",
    "\n",
    "A continuación se procederá determinar la capacidad del proceso:"
   ]
  },
  {
   "cell_type": "code",
   "execution_count": 21,
   "metadata": {},
   "outputs": [
    {
     "name": "stdout",
     "output_type": "stream",
     "text": [
      "3.1746031746031744\n"
     ]
    }
   ],
   "source": [
    "D = 10\n",
    "LIE = 95 - D\n",
    "LSE = 95 + D\n",
    "T = 2*D\n",
    "s = 1.05 # Se toma s como el mejor estimador de sigma.\n",
    "\n",
    "Cp = T/(6*s)\n",
    "print(Cp)"
   ]
  },
  {
   "cell_type": "markdown",
   "metadata": {},
   "source": [
    "Dado que $C_{p} \\geq 2.0$ entonces esto por lo pronto indica que el proceso tiene capacidad de fabricar producto dentro de las especificaciones, y según los criterios de evaluación indica que se trata de un proceso 6 sigma de clase mundial."
   ]
  },
  {
   "cell_type": "markdown",
   "metadata": {},
   "source": [
    "**b)** \n",
    "\n",
    "R/ Cuando el proceso no está centrado, se emplea el **índice de capacidad unilateral** o **índice de capacidad real (Cpk)**:\n",
    "\n",
    "$$\\rightarrow C_{pk}=min(C_{pki}, C_{pks})$$\n",
    "\n",
    "$$\\rightarrow C_{pk}=min(C_{pki}=\\frac{\\bar{X'}-LIE}{3\\sigma'}, C_{pks}=\\frac{LSE-\\bar{X'}}{3\\sigma'})$$\n",
    "\n",
    "Donde:\n",
    "\n",
    "* $\\bar{X'}$ es la media del proceso, y\n",
    "* $\\sigma'$ es la desviación del proceso.\n",
    "\n",
    "Por tanto, el índice Cpk es:"
   ]
  },
  {
   "cell_type": "code",
   "execution_count": 22,
   "metadata": {},
   "outputs": [
    {
     "name": "stdout",
     "output_type": "stream",
     "text": [
      "Cpki = 4.76\n",
      "Cpks = 1.59\n",
      "Cpk = 1.59\n"
     ]
    }
   ],
   "source": [
    "X = 100 # Se toma X' como el mejor estimador de mu\n",
    "\n",
    "Cpki = np.round((X - LIE)/(3*s),2)\n",
    "Cpks = np.round((LSE - X)/(3*s),2)\n",
    "\n",
    "Cpk = np.min([Cpki, Cpks])\n",
    "\n",
    "print(\"Cpki = \"+ str(Cpki))\n",
    "print(\"Cpks = \"+ str(Cpks))\n",
    "print(\"Cpk = \"+ str(Cpk))"
   ]
  },
  {
   "cell_type": "markdown",
   "metadata": {},
   "source": [
    "Cpk $\\approx$ 1.59, esto indica que el proceso es realmente capaz y tiende a cumplir con ambas especificaciones de calidad."
   ]
  },
  {
   "cell_type": "markdown",
   "metadata": {},
   "source": [
    "**c)**\n",
    "\n",
    "R/ Para obtener la porción caída del proceso, se tiene que calcular los límites de fluctuación natural del proceso, dado $\\bar{X'} = VN$, es decir $\\bar{X'}= 95$. Los límites de fluctiación natural del proceso están dados por la siguiente fórmula:\n",
    "\n",
    "$$\\rightarrow LFN_{i,s} = \\bar{X'} \\pm 3\\sigma'$$\n",
    "\n",
    "Donde:\n",
    "\n",
    "* $\\bar{X'}$ es la media del proceso, y\n",
    "* $\\sigma'$ es la desviación estándar del proceso.\n",
    "\n",
    "Entonces, los límites de fluctuación son:"
   ]
  },
  {
   "cell_type": "code",
   "execution_count": 23,
   "metadata": {},
   "outputs": [
    {
     "name": "stdout",
     "output_type": "stream",
     "text": [
      "LIFN = 91.85 y LSFN = 98.15\n"
     ]
    }
   ],
   "source": [
    "X = 95\n",
    "\n",
    "LIFN = np.round(X - 3*s,4)\n",
    "LSFN = np.round(X + 3*s,4)\n",
    "\n",
    "print(\"LIFN = \" + str(LIFN) + \" y LSFN = \" + str(LSFN))"
   ]
  },
  {
   "cell_type": "markdown",
   "metadata": {},
   "source": [
    "Se compara si, dada la nueva media ($\\bar{X'} = 95$), LIFN es mayor o igual a LIE y si LSFN es menor o igual a LSE:"
   ]
  },
  {
   "cell_type": "code",
   "execution_count": 19,
   "metadata": {},
   "outputs": [
    {
     "name": "stdout",
     "output_type": "stream",
     "text": [
      "True True\n"
     ]
    }
   ],
   "source": [
    "print(LIFN>=LIE, LSFN<=LSE)"
   ]
  },
  {
   "cell_type": "markdown",
   "metadata": {},
   "source": [
    "Se tiene que sin importar si la media del proceso se corrigiera para operar en la especificación nominal el proceso seguiría dentro de los límites de especificación inferior y superior."
   ]
  }
 ],
 "metadata": {
  "kernelspec": {
   "display_name": "Python 3",
   "language": "python",
   "name": "python3"
  },
  "language_info": {
   "codemirror_mode": {
    "name": "ipython",
    "version": 3
   },
   "file_extension": ".py",
   "mimetype": "text/x-python",
   "name": "python",
   "nbconvert_exporter": "python",
   "pygments_lexer": "ipython3",
   "version": "3.7.3"
  }
 },
 "nbformat": 4,
 "nbformat_minor": 2
}
