{
 "cells": [
  {
   "cell_type": "markdown",
   "metadata": {},
   "source": [
    "## Capítulo 1.1.: Modelos estadísticos para control de calidad"
   ]
  },
  {
   "cell_type": "markdown",
   "metadata": {},
   "source": [
    "### Caso 1.1.1: Análisis de capacidad de proceso"
   ]
  },
  {
   "cell_type": "code",
   "execution_count": 2,
   "metadata": {},
   "outputs": [],
   "source": [
    "import numpy as np\n",
    "import math\n",
    "import scipy.stats as st"
   ]
  },
  {
   "cell_type": "markdown",
   "metadata": {},
   "source": [
    "#### Ejemplo 1:"
   ]
  },
  {
   "cell_type": "markdown",
   "metadata": {},
   "source": [
    "Se tiene que en cierto proceso de fabricación de antibacteriales el porcentaje medio de alcohol en el gel es de 79,012% y su deviación estándar es de 0,545%. Se ha determinado que el valor nominal de la característica de calidad es de 80,00% y su discrepancia es 1,50%.\n",
    "\n",
    "**a) Calcule la capacidad del proceso (Cp):**"
   ]
  },
  {
   "cell_type": "markdown",
   "metadata": {},
   "source": [
    "R/ Se sabe que el índice de capacidad del proceso Cp esta dado por:\n",
    "$$\\rightarrow C_{p}=\\frac{T}{6\\sigma'}$$\n",
    "\n",
    "Y:\n",
    "$$\\rightarrow T = 2\\nabla = LSE - LIE$$\n",
    "\n",
    "Donde:\n",
    "* $\\nabla$ es la discrepancia y de ahora en adelante se le asignará la letra 'D', \n",
    "* $\\sigma'$ que es la desviación estándar se le asignará la letra 's',y \n",
    "* 'T' es la tolerancia. \n",
    "\n",
    "A continuación se procederá determinar la capacidad del proceso:"
   ]
  },
  {
   "cell_type": "code",
   "execution_count": 3,
   "metadata": {},
   "outputs": [
    {
     "name": "stdout",
     "output_type": "stream",
     "text": [
      "0.9174311926605504\n"
     ]
    }
   ],
   "source": [
    "s = 0.00545\n",
    "D = 0.015\n",
    "T = 2*D\n",
    "\n",
    "Cp = T/(6*s)\n",
    "print(Cp)"
   ]
  },
  {
   "cell_type": "markdown",
   "metadata": {},
   "source": [
    "Dado que $0.67 < C_{p} < 1.00$ entonces esto por lo pronto indica que el proceso no tiene capacidad de fabricar producto dentro de las especificaciones, requiere modificaciones para generar producto que alcance una calidad satisfactoria."
   ]
  },
  {
   "cell_type": "markdown",
   "metadata": {},
   "source": [
    "**b) Determine los límites de especificación del proceso:**"
   ]
  },
  {
   "cell_type": "markdown",
   "metadata": {},
   "source": [
    "R/ Se tiene que los límites de especificación del proceso están definidos como sigue:\n",
    "\n",
    "$$\\rightarrow LIE = VN - \\nabla$$\n",
    "$$\\rightarrow LSE = VN + \\nabla$$\n",
    "\n",
    "Donde:\n",
    "\n",
    "* VN es el valor nominal definido para el proceso, y\n",
    "* $\\nabla$ es la discrepancia.\n",
    "\n",
    "Por tanto, los límites de especificación son:"
   ]
  },
  {
   "cell_type": "code",
   "execution_count": 4,
   "metadata": {},
   "outputs": [
    {
     "name": "stdout",
     "output_type": "stream",
     "text": [
      "LIE = 0.785 y LSE = 0.815\n"
     ]
    }
   ],
   "source": [
    "VN = 0.8\n",
    "\n",
    "LIE = np.round(VN - D,4)\n",
    "LSE = np.round(VN + D,4)\n",
    "print(\"LIE = \"+ str(LIE) + \" y LSE = \" +str(LSE))"
   ]
  },
  {
   "cell_type": "markdown",
   "metadata": {},
   "source": [
    "**c) Calcule los límites de fluctuación natural del proceso:**"
   ]
  },
  {
   "cell_type": "markdown",
   "metadata": {},
   "source": [
    "R/ Se tiene que los límites de fluctuación natural del proceso están dados por la siguiente fórmula:\n",
    "\n",
    "$$\\rightarrow LFN_{i,s} = \\bar{X'} \\pm 3\\sigma'$$\n",
    "\n",
    "Donde:\n",
    "\n",
    "* $\\bar{X'}$ es la media del proceso, y\n",
    "* $\\sigma'$ es la desviación estándar del proceso.\n",
    "\n",
    "Entonces, los límites de fluctuación son:"
   ]
  },
  {
   "cell_type": "code",
   "execution_count": 5,
   "metadata": {},
   "outputs": [
    {
     "name": "stdout",
     "output_type": "stream",
     "text": [
      "LIFN = 0.7738 y LSFN = 0.8065\n"
     ]
    }
   ],
   "source": [
    "X = 0.79012\n",
    "\n",
    "LIFN = np.round(X - 3*s,4)\n",
    "LSFN = np.round(X + 3*s,4)\n",
    "\n",
    "print(\"LIFN = \" + str(LIFN) + \" y LSFN = \" + str(LSFN))"
   ]
  },
  {
   "cell_type": "markdown",
   "metadata": {},
   "source": [
    "**d) ¿La fluctuación natural del proceso se encuentra dentro de los límites de especificación?**"
   ]
  },
  {
   "cell_type": "markdown",
   "metadata": {},
   "source": [
    "R/ Se compara si LIFN es mayor o igual a LIE y si LSFN es menor o igual a LSE:"
   ]
  },
  {
   "cell_type": "code",
   "execution_count": 6,
   "metadata": {},
   "outputs": [
    {
     "name": "stdout",
     "output_type": "stream",
     "text": [
      "False True\n"
     ]
    }
   ],
   "source": [
    "print(LIFN>=LIE, LSFN<=LSE)"
   ]
  },
  {
   "cell_type": "markdown",
   "metadata": {},
   "source": [
    "Se tiene que **el límite inferior fluctuación natural (LIFN) es mas bajo (<) que el límite inferior de especificación (LIE)**, por lo que se concluye que **el proceso está generando producto no conforme por debajo de dicho límite.**"
   ]
  },
  {
   "cell_type": "markdown",
   "metadata": {},
   "source": [
    "**e)¿Cuál es la proporción de producto no conforme que se está generando por debajo del LEI?**"
   ]
  },
  {
   "cell_type": "markdown",
   "metadata": {},
   "source": [
    "R/ Inicialmente se tiene que determinar el valor Z estandarizado para el límite de especificación inferior. Esto se obtiene con la siguiente fórmula:\n",
    "\n",
    "$$\\rightarrow Z_{inf}=\\frac{LIE-\\bar{X'}}{\\sigma'}$$\n",
    "\n",
    "Obteniendo el siguiente resultado:"
   ]
  },
  {
   "cell_type": "code",
   "execution_count": 7,
   "metadata": {},
   "outputs": [
    {
     "name": "stdout",
     "output_type": "stream",
     "text": [
      "-0.9394\n"
     ]
    }
   ],
   "source": [
    "Zinf = np.round((LIE - X)/s,4)\n",
    "print(Zinf)"
   ]
  },
  {
   "cell_type": "markdown",
   "metadata": {},
   "source": [
    "Luego de esto, se obtiene de la tabla de distribución normal estándar la probabilidad de obtener un valor Zinf menor o igual ($\\leq$) a -0.9394, así:"
   ]
  },
  {
   "cell_type": "code",
   "execution_count": 8,
   "metadata": {},
   "outputs": [
    {
     "name": "stdout",
     "output_type": "stream",
     "text": [
      "0.1738\n"
     ]
    }
   ],
   "source": [
    "P = np.round(st.norm.cdf(Zinf),4)\n",
    "print(P)"
   ]
  },
  {
   "cell_type": "markdown",
   "metadata": {},
   "source": [
    "Es decir que la proporción de producto no conforme generado por debajo del límite de especificación es del 17.37%."
   ]
  },
  {
   "cell_type": "markdown",
   "metadata": {},
   "source": [
    "**f) ¿Entre que valores debería oscilar la media del proceso para que el porcentaje de no conformidad sea máximo 10%?**"
   ]
  },
  {
   "cell_type": "markdown",
   "metadata": {},
   "source": [
    "Inicialmente se debe despejar $\\bar{X'}$ de la fórmula de Z estandarizado inferior, así:\n",
    "\n",
    "$$Z_{inf}=\\frac{LIE-\\bar{X'}}{\\sigma'}\\rightarrow\\bar{X'}_{inf}=LIE-\\sigma'Z_{inf}$$\n",
    "\n",
    "Lo mismo ocurre con la formula de Z estandarizado superior:\n",
    "\n",
    "$$Z_{sup}=\\frac{LSE-\\bar{X'}}{\\sigma'}\\rightarrow\\bar{X'}_{sup}=LSE-\\sigma'Z_{sup}$$\n",
    "\n",
    "Donde:\n",
    "* $Z_{inf}$ es el valor de Z estandarizado inferior que representa una probabilidad de 10% de obtener producto no conforme por debajo de LIE, y\n",
    "* $Z_{sup}$ es el valor de Z estandarizado superior que representa una probabilidad de 90% (100% - 10%) de no obtener inconformidades de producto por encima de LSE.\n",
    "\n",
    "Por lo tanto:"
   ]
  },
  {
   "cell_type": "code",
   "execution_count": 9,
   "metadata": {},
   "outputs": [
    {
     "name": "stdout",
     "output_type": "stream",
     "text": [
      "Zinf = -1.2816 y Zsup = 1.2816\n"
     ]
    }
   ],
   "source": [
    "VO_inf = 0.10\n",
    "Zinf_vo = np.round(st.norm.ppf(VO_inf),4)\n",
    "\n",
    "\n",
    "VO_sup = 1 - VO_inf\n",
    "Zsup_vo = np.round(st.norm.ppf(VO_sup),4)\n",
    "\n",
    "print(\"Zinf = \"+str(Zinf_vo) + \" y Zsup = \" + str(Zsup_vo))"
   ]
  },
  {
   "cell_type": "markdown",
   "metadata": {},
   "source": [
    "Entonces, los valores entre los cuales puede oscilar $\\bar{X'}$ para obtener a lo sumo 10% de producto no conforme son:"
   ]
  },
  {
   "cell_type": "code",
   "execution_count": 10,
   "metadata": {},
   "outputs": [
    {
     "name": "stdout",
     "output_type": "stream",
     "text": [
      "Xinf = 0.792 y Xsup = 0.808\n"
     ]
    }
   ],
   "source": [
    "Xinf_vo = np.round(LIE - (Zinf_vo*s),4) # Cuando el proceso entrega 10% de producto no conforme por debajo del límite inferior de especificación.\n",
    "Xsup_vo = np.round(LSE - (Zsup_vo*s),4) # Cuando el proceso entrega 10% de producto no conforme por encima del límite superior de especificación.\n",
    "print(\"Xinf = \" + str(Xinf_vo) + \" y Xsup = \" + str(Xsup_vo))"
   ]
  }
 ],
 "metadata": {
  "kernelspec": {
   "display_name": "Python 3",
   "language": "python",
   "name": "python3"
  },
  "language_info": {
   "codemirror_mode": {
    "name": "ipython",
    "version": 3
   },
   "file_extension": ".py",
   "mimetype": "text/x-python",
   "name": "python",
   "nbconvert_exporter": "python",
   "pygments_lexer": "ipython3",
   "version": "3.7.3"
  }
 },
 "nbformat": 4,
 "nbformat_minor": 2
}
