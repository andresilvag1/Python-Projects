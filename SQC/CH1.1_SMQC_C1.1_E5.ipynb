{
 "cells": [
  {
   "cell_type": "markdown",
   "metadata": {},
   "source": [
    "## Capítulo 1.1.: Modelos estadísticos para control de calidad"
   ]
  },
  {
   "cell_type": "markdown",
   "metadata": {},
   "source": [
    "### Caso 1.1.1: Análisis de capacidad de proceso"
   ]
  },
  {
   "cell_type": "code",
   "execution_count": 2,
   "metadata": {},
   "outputs": [],
   "source": [
    "import numpy as np\n",
    "import math\n",
    "import scipy.stats as st"
   ]
  },
  {
   "cell_type": "markdown",
   "metadata": {},
   "source": [
    "#### Ejemplo 5:"
   ]
  },
  {
   "cell_type": "markdown",
   "metadata": {},
   "source": [
    "Un ventilador mecánico o respirador es una máquina, de accionamiento eléctrico, -controlado mediante procesador- electromagnético o neumático, que suple la ventilación pulmonar espontánea por una ventilación mecánica en personas con una insuficiencia respiratoria, ya sea aguda o crónica. El gas de respiración suele estar enriquecido con oxígeno.\n",
    "\n",
    "Una reconocida empresa de bioingeniería se encuentra en la fase terminal del diseño de su nuevo respirador artificial para utilizar en pacientes con graves deficiencias de respiración. El aparato tiene como objeto brindar hasta 95% de oxígeno puro a través de su depósito de aire, el cuál es comprimido neumáticamente varias veces para proporcionar al paciente aire circundante o, en la mayoría de los casos, una mezcla de aire y oxígeno.\n",
    "\n",
    "La empresa ha producido un total de 50 unidades de prueba y, según los resultados que arroja el medidor utilizado, se tiene que la cantidad máxima promedio de oxígeno que suministra el artefacto es de 93.4% con una desviación estándar de 1.5%. Los inversores del proyecto, además de requerir que la máquina suministre un máximo promedio de 95% de oxígeno también solicitan que la discrepancia con dicho valor sea a lo máximo 2% más bajo para dar marcha al proyecto a gran escala (suponga que los datos siguen una distribución normal)."
   ]
  },
  {
   "cell_type": "markdown",
   "metadata": {},
   "source": [
    "**a) Estimar la Capacidad Potencial (Cp):**\n",
    "\n",
    "R/ Se sabe que el índice de capacidad del proceso Cp esta dado por:\n",
    "\n",
    "$$\\rightarrow C_{p}=\\frac{T}{6\\sigma'}$$\n",
    "\n",
    "Y:\n",
    "$$\\rightarrow T = 2\\nabla = LSE - LIE$$\n",
    "\n",
    "Donde:\n",
    "* $\\nabla$ es la discrepancia y de ahora en adelante se le asignará la letra 'D', \n",
    "* $\\sigma'$ que es la desviación estándar se le asignará la letra 's',y \n",
    "* 'T' es la tolerancia. \n",
    "\n",
    "A continuación se procederá determinar la capacidad del proceso:"
   ]
  },
  {
   "cell_type": "code",
   "execution_count": 3,
   "metadata": {},
   "outputs": [
    {
     "name": "stdout",
     "output_type": "stream",
     "text": [
      "0.4444444444444445\n"
     ]
    }
   ],
   "source": [
    "D = 0.02\n",
    "LIE = 0.95 - D\n",
    "LSE = 0.95 + D\n",
    "T = 2*D\n",
    "s = 0.015 # Se toma s como el mejor estimador de sigma.\n",
    "\n",
    "Cp = T/(6*s)\n",
    "print(Cp)"
   ]
  },
  {
   "cell_type": "markdown",
   "metadata": {},
   "source": [
    "Dado que $C_{p} < 0.67$ entonces esto por lo pronto indica que el proceso tiene una muy pobre capacidad de fabricar producto dentro de las especificaciones, y según los criterios se trata de un proceso no adecuado para el trabajo, por lo que requiere modificaciones serias."
   ]
  },
  {
   "cell_type": "markdown",
   "metadata": {},
   "source": [
    "**b) Estimar la Capacidad Real (Cpk):**\n",
    "\n",
    "R/ Cuando el proceso no está centrado, se emplea el **índice de capacidad unilateral** o **índice de capacidad real (Cpk)**:\n",
    "\n",
    "$$\\rightarrow C_{pk}=min(C_{pki}, C_{pks})$$\n",
    "\n",
    "$$\\rightarrow C_{pk}=min(C_{pki}=\\frac{\\bar{X'}-LIE}{3\\sigma'}, C_{pks}=\\frac{LSE-\\bar{X'}}{3\\sigma'})$$\n",
    "\n",
    "Donde:\n",
    "\n",
    "* $\\bar{X'}$ es la media del proceso, y\n",
    "* $\\sigma'$ es la desviación del proceso.\n",
    "\n",
    "Por tanto, el índice Cpk es:"
   ]
  },
  {
   "cell_type": "code",
   "execution_count": 4,
   "metadata": {},
   "outputs": [
    {
     "name": "stdout",
     "output_type": "stream",
     "text": [
      "Cpki = 0.09\n",
      "Cpks = 0.8\n",
      "Cpk = 0.09\n"
     ]
    }
   ],
   "source": [
    "X = 0.934 # Se toma X' como el mejor estimador de mu\n",
    "\n",
    "Cpki = np.round((X - LIE)/(3*s),2)\n",
    "Cpks = np.round((LSE - X)/(3*s),2)\n",
    "\n",
    "Cpk = np.min([Cpki, Cpks])\n",
    "\n",
    "print(\"Cpki = \"+ str(Cpki))\n",
    "print(\"Cpks = \"+ str(Cpks))\n",
    "print(\"Cpk = \"+ str(Cpk))"
   ]
  },
  {
   "cell_type": "markdown",
   "metadata": {},
   "source": [
    "Dado que Cpk $\\approx$ 0.09, esto confirma que el proceso no es realmente capaz y por lo menos tiende a no cumplir con una de las especificaciones de calidad. Dicho lo anterior, tal parece que no se está cumpliendo en mayor medida con el límite inferior de calidad, pues corresponde a Cpki $\\approx$ 0.09. De igual forma, el proceso tampoco parece cumplir con el límite superior de especificación, ya que Cpks $\\approx$ 0.8."
   ]
  },
  {
   "cell_type": "markdown",
   "metadata": {},
   "source": [
    "**c) Calcule los límites de fluctuación natural del proceso (LFNP):**\n",
    "\n",
    "R/ Se tiene que los límites de fluctuación natural del proceso están dados por la siguiente fórmula:\n",
    "\n",
    "$$\\rightarrow LFN_{i,s} = \\bar{X'} \\pm 3\\sigma'$$\n",
    "\n",
    "Donde:\n",
    "\n",
    "* $\\bar{X'}$ es la media del proceso, y\n",
    "* $\\sigma'$ es la desviación estándar del proceso.\n",
    "\n",
    "Entonces, los límites de fluctuación son:"
   ]
  },
  {
   "cell_type": "code",
   "execution_count": 5,
   "metadata": {},
   "outputs": [
    {
     "name": "stdout",
     "output_type": "stream",
     "text": [
      "LIFN = 0.889 y LSFN = 0.979\n"
     ]
    }
   ],
   "source": [
    "LIFN = np.round(X - 3*s,4)\n",
    "LSFN = np.round(X + 3*s,4)\n",
    "\n",
    "print(\"LIFN = \" + str(LIFN) + \" y LSFN = \" + str(LSFN))"
   ]
  },
  {
   "cell_type": "markdown",
   "metadata": {},
   "source": [
    "Se compara si LIFN es mayor o igual a LIE y si LSFN es menor o igual a LSE:"
   ]
  },
  {
   "cell_type": "code",
   "execution_count": 6,
   "metadata": {},
   "outputs": [
    {
     "name": "stdout",
     "output_type": "stream",
     "text": [
      "False False\n"
     ]
    }
   ],
   "source": [
    "print(LIFN>=LIE, LSFN<=LSE)"
   ]
  },
  {
   "cell_type": "markdown",
   "metadata": {},
   "source": [
    "Se confirma que ninguno de los límites de fluctuación natural del proceso se encuentran dentro de las especificaciones de calidad."
   ]
  },
  {
   "cell_type": "markdown",
   "metadata": {},
   "source": [
    "**d) Dado que para obtener la financiación es prioritario que las máquinas cumplan con los requerimientos mínimos de calidad y las máquinas que suministran mayor cantidad de oxígeno se pueden calibrar para optimizar el suministro. Por ahora a los socios solo les interesa saber ¿Qué porcentaje de respiradores artificiales no cumplen con el límite inferior de especificación?**"
   ]
  },
  {
   "cell_type": "markdown",
   "metadata": {},
   "source": [
    "R/ Inicialmente se debe determinar el valor Z estandarizado para dicho límite (LIE). Esto se obtiene con la siguiente fórmula:\n",
    "\n",
    "$$\\rightarrow Z_{inf}=\\frac{LIE-\\bar{X'}}{\\sigma'}$$\n",
    "\n",
    "Obteniendo el siguiente resultado:"
   ]
  },
  {
   "cell_type": "code",
   "execution_count": 7,
   "metadata": {},
   "outputs": [
    {
     "name": "stdout",
     "output_type": "stream",
     "text": [
      "-0.2667\n"
     ]
    }
   ],
   "source": [
    "Zinf = np.round((LIE - X)/s,4)\n",
    "print(Zinf)"
   ]
  },
  {
   "cell_type": "code",
   "execution_count": 8,
   "metadata": {},
   "outputs": [
    {
     "name": "stdout",
     "output_type": "stream",
     "text": [
      "0.3949\n"
     ]
    }
   ],
   "source": [
    "P = np.round(st.norm.cdf(Zinf),4)\n",
    "print(P)"
   ]
  },
  {
   "cell_type": "markdown",
   "metadata": {},
   "source": [
    "Es decir que la proporción de producto no conforme generado por debajo del límite inferior de especificación es del 39.49%. El porcentaje es alto, representarían aproximadamente 3.949 unidades defectuosas en cada lote de 10.000 unidades, pero se podría mejorar reduciendo un poco más la variabilidad del proceso."
   ]
  },
  {
   "cell_type": "markdown",
   "metadata": {},
   "source": [
    "**e) Suponiendo que se pudiera reducir drásticamente la variabilidad del proceso, ¿Qué valor máximo debería tener la desviación estándar para lograr a lo sumo 5% de unidades defectuosas por debajo del LIE?**"
   ]
  },
  {
   "cell_type": "markdown",
   "metadata": {},
   "source": [
    "Inicialmente se debe despejar $\\sigma'$ de la fórmula de Z estandarizado inferior, así:\n",
    "\n",
    "$$Z_{inf}=\\frac{LIE-\\bar{X'}}{\\sigma'}\\rightarrow\\sigma'_{inf}=\\frac{LIE-\\bar{X'}}{Z_{inf}}$$\n",
    "\n",
    "Donde:\n",
    "* $Z_{inf}$ es el valor de Z estandarizado inferior que representa una probabilidad de 5.0% de obtener producto no conforme por debajo de LIE.\n",
    "\n",
    "Por lo tanto:"
   ]
  },
  {
   "cell_type": "code",
   "execution_count": 11,
   "metadata": {},
   "outputs": [
    {
     "name": "stdout",
     "output_type": "stream",
     "text": [
      "Zinf = -1.6449\n"
     ]
    }
   ],
   "source": [
    "VO_inf = 0.05\n",
    "Zinf_vo = np.round(st.norm.ppf(VO_inf),4)\n",
    "\n",
    "print(\"Zinf = \"+str(Zinf_vo))"
   ]
  },
  {
   "cell_type": "markdown",
   "metadata": {},
   "source": [
    "Entonces, los valores entre los cuales puede oscilar $\\sigma'$ para obtener a lo sumo 5.0% de producto no conforme son:"
   ]
  },
  {
   "cell_type": "code",
   "execution_count": 13,
   "metadata": {},
   "outputs": [
    {
     "name": "stdout",
     "output_type": "stream",
     "text": [
      "Sinf = 0.00243\n"
     ]
    }
   ],
   "source": [
    "s_inf_vo = np.round((LIE - X)/Zinf_vo,5) # Cuando el proceso entrega 5% de producto no conforme por debajo del límite inferior de especificación.\n",
    "print(\"Sinf = \" + str(s_inf_vo))"
   ]
  },
  {
   "cell_type": "markdown",
   "metadata": {},
   "source": [
    "Por tanto, el proceso debe tener mejorar su precisión debido a que la desviación estándar debe ser máximo 0.243% para obtener a lo sumo 5% de no conformidades."
   ]
  }
 ],
 "metadata": {
  "kernelspec": {
   "display_name": "Python 3",
   "language": "python",
   "name": "python3"
  },
  "language_info": {
   "codemirror_mode": {
    "name": "ipython",
    "version": 3
   },
   "file_extension": ".py",
   "mimetype": "text/x-python",
   "name": "python",
   "nbconvert_exporter": "python",
   "pygments_lexer": "ipython3",
   "version": "3.7.3"
  }
 },
 "nbformat": 4,
 "nbformat_minor": 2
}
