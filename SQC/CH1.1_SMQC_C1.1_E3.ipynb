{
 "cells": [
  {
   "cell_type": "markdown",
   "metadata": {},
   "source": [
    "## Capítulo 1.1.: Modelos estadísticos para control de calidad"
   ]
  },
  {
   "cell_type": "markdown",
   "metadata": {},
   "source": [
    "### Caso 1.1.1: Análisis de capacidad de proceso"
   ]
  },
  {
   "cell_type": "code",
   "execution_count": 7,
   "metadata": {},
   "outputs": [],
   "source": [
    "import numpy as np\n",
    "import math\n",
    "import scipy.stats as st"
   ]
  },
  {
   "cell_type": "markdown",
   "metadata": {},
   "source": [
    "### Ejemplo 3:"
   ]
  },
  {
   "cell_type": "markdown",
   "metadata": {},
   "source": [
    "Una característica de calidad importante en la fabricación de una llanta es la longitud de capa, que para cierto tipo de llanta debe ser de 870 mm con una tolerancia de $\\pm$ 7 mm. Para monitorear el correcto funcionamiento del proceso de corte, cada media hora se toman cinco (5) capas y se miden. De acuerdo a las mediciones realizadas el último mes, en donde el proceso ha estado trabajando de manera estable, se tiene que la media y la desviación estándar del proceso son $\\mu =$ 873 mm y $\\sigma =$ 2.5 mm, respectivamente. Con base a lo anterior se quiere saber en qué medida el proceso está cumpliendo con las especificaciones respondiendo a los siguientes interrogantes: \n",
    "* **a) Determine la capacidad del proceso (Cp).**\n",
    "* **b) ¿Cuál es la capacidad real del proceso (Cpk)?**\n",
    "* **c) Calcule los límites de fluctiación natural del proceso (LFNP).**\n",
    "* **d) ¿Qué proporción de producto no conforme se está generando por fuera de los límites de especificación?**\n",
    "* **e) ¿Entre qué valores debería oscilar la media del proceso para que el porcentaje de no conformidad sea a lo sumo 4.0%?**"
   ]
  },
  {
   "cell_type": "markdown",
   "metadata": {},
   "source": [
    "**a) Determine la capacidad del proceso (Cp).**"
   ]
  },
  {
   "cell_type": "markdown",
   "metadata": {},
   "source": [
    "R/ Se sabe que el índice de capacidad del proceso Cp esta dado por:\n",
    "\n",
    "$$\\rightarrow C_{p}=\\frac{T}{6\\sigma'}$$\n",
    "\n",
    "Y:\n",
    "$$\\rightarrow T = 2\\nabla = LSE - LIE$$\n",
    "\n",
    "Donde:\n",
    "* $\\nabla$ es la discrepancia y de ahora en adelante se le asignará la letra 'D', \n",
    "* $\\sigma'$ que es la desviación estándar se le asignará la letra 's',y \n",
    "* 'T' es la tolerancia. \n",
    "\n",
    "A continuación se procederá determinar la capacidad del proceso:"
   ]
  },
  {
   "cell_type": "code",
   "execution_count": 5,
   "metadata": {},
   "outputs": [
    {
     "name": "stdout",
     "output_type": "stream",
     "text": [
      "0.9333333333333333\n"
     ]
    }
   ],
   "source": [
    "LIE = 870 - 7 # Límite Inferior de Especificación\n",
    "LSE = 870 + 7 # Límite Superior de Especificación\n",
    "\n",
    "T = LSE - LIE\n",
    "\n",
    "s = 2.5\n",
    "\n",
    "Cp = T/(6*s)\n",
    "print(Cp)"
   ]
  },
  {
   "cell_type": "markdown",
   "metadata": {},
   "source": [
    "Dado que $0.67 < C_{p} < 1.00$ entonces esto por lo pronto indica que el proceso no tiene capacidad de fabricar producto dentro de las especificaciones, requiere modificaciones para generar producto que alcance una calidad satisfactoria."
   ]
  },
  {
   "cell_type": "markdown",
   "metadata": {},
   "source": [
    "**b) ¿Cuál es la capacidad real del proceso (Cpk)?**"
   ]
  },
  {
   "cell_type": "markdown",
   "metadata": {},
   "source": [
    "R/ Cuando el proceso no está centrado, se emplea el **índice de capacidad unilateral** o **índice de capacidad real (Cpk)**:\n",
    "\n",
    "$$\\rightarrow C_{pk}=min(C_{pki}, C_{pks})$$\n",
    "\n",
    "$$\\rightarrow C_{pk}=min(C_{pki}=\\frac{\\bar{X'}-LIE}{3\\sigma'}, C_{pks}=\\frac{LSE-\\bar{X'}}{3\\sigma'})$$\n",
    "\n",
    "Donde:\n",
    "\n",
    "* $\\bar{X'}$ es la media del proceso, y\n",
    "* $\\sigma'$ es la desviación del proceso.\n",
    "\n",
    "Por tanto, el índice Cpk es:"
   ]
  },
  {
   "cell_type": "code",
   "execution_count": 8,
   "metadata": {},
   "outputs": [
    {
     "name": "stdout",
     "output_type": "stream",
     "text": [
      "Cpki = 1.33\n",
      "Cpks = 0.53\n",
      "Cpk = 0.53\n"
     ]
    }
   ],
   "source": [
    "X = 873\n",
    "\n",
    "Cpki = np.round((X-LIE)/(3*s),2)\n",
    "Cpks = np.round((LSE-X)/(3*s),2)\n",
    "\n",
    "Cpk = np.min([Cpki,Cpks])\n",
    "\n",
    "print(\"Cpki = \"+ str(Cpki))\n",
    "print(\"Cpks = \"+ str(Cpks))\n",
    "print(\"Cpk = \"+ str(Cpk))"
   ]
  },
  {
   "cell_type": "markdown",
   "metadata": {},
   "source": [
    "Dado que Cpk $\\approx$ 0.53, esto indica que el proceso no es realmente capaz y por lo menos tiende a no cumplir con una de las especificaciones de calidad. Dicho lo anterior, tal parece que no se está cumpliendo con el límite superior de calidad, pues corresponde a Cpks $\\approx$ 0.53. Por el contrario, el proceso no parece tener problemas para cumplir con el límite inferior de especificación, ya que Cpki $\\approx$ 1.33."
   ]
  },
  {
   "cell_type": "markdown",
   "metadata": {},
   "source": [
    "**c) Calcule los límites de fluctuación natural del proceso (LFNP):**"
   ]
  },
  {
   "cell_type": "markdown",
   "metadata": {},
   "source": [
    "R/ Se tiene que los límites de fluctuación natural del proceso están dados por la siguiente fórmula:\n",
    "\n",
    "$$\\rightarrow LFN_{i,s} = \\bar{X'} \\pm 3\\sigma'$$\n",
    "\n",
    "Donde:\n",
    "\n",
    "* $\\bar{X'}$ es la media del proceso, y\n",
    "* $\\sigma'$ es la desviación estándar del proceso.\n",
    "\n",
    "Entonces, los límites de fluctuación son:"
   ]
  },
  {
   "cell_type": "code",
   "execution_count": 9,
   "metadata": {},
   "outputs": [
    {
     "name": "stdout",
     "output_type": "stream",
     "text": [
      "LIFN = 865.5 y LSFN = 880.5\n"
     ]
    }
   ],
   "source": [
    "LIFN = np.round(X - 3*s,4)\n",
    "LSFN = np.round(X + 3*s,4)\n",
    "\n",
    "print(\"LIFN = \" + str(LIFN) + \" y LSFN = \" + str(LSFN))"
   ]
  },
  {
   "cell_type": "markdown",
   "metadata": {},
   "source": [
    "Se compara si LIFN es mayor o igual a LIE y si LSFN es menor o igual a LSE:"
   ]
  },
  {
   "cell_type": "code",
   "execution_count": 10,
   "metadata": {},
   "outputs": [
    {
     "name": "stdout",
     "output_type": "stream",
     "text": [
      "True False\n"
     ]
    }
   ],
   "source": [
    "print(LIFN>=LIE, LSFN<=LSE)"
   ]
  },
  {
   "cell_type": "markdown",
   "metadata": {},
   "source": [
    "Se tiene que **el límite superior fluctuación natural (LIFN) es mas alto (>) que el límite superior de especificación (LSE)**, por lo que **se confirma que el proceso está generando producto no conforme por encima de dicho límite.**"
   ]
  },
  {
   "cell_type": "markdown",
   "metadata": {},
   "source": [
    "**d) ¿Qué proporción de producto no conforme se está generando por fuera de los límites de especificación?**"
   ]
  },
  {
   "cell_type": "markdown",
   "metadata": {},
   "source": [
    "R/ Como el proceso está generando producto no conforme por encima del límite superior de especificación, inicialmente se debe determinar el valor Z estandarizado para dicho límite. Esto se obtiene con la siguiente fórmula:\n",
    "\n",
    "$$\\rightarrow Z_{sup}=\\frac{LSE-\\bar{X'}}{\\sigma'}$$\n",
    "\n",
    "Obteniendo el siguiente resultado:"
   ]
  },
  {
   "cell_type": "code",
   "execution_count": 23,
   "metadata": {},
   "outputs": [
    {
     "name": "stdout",
     "output_type": "stream",
     "text": [
      "1.6\n"
     ]
    }
   ],
   "source": [
    "Zsup = np.round((LSE - X)/s,4)\n",
    "print(Zinf)"
   ]
  },
  {
   "cell_type": "markdown",
   "metadata": {},
   "source": [
    "Luego de esto, se obtiene de la tabla de distribución normal estándar la probabilidad de obtener un valor Zsup mayor a 1.6, así:"
   ]
  },
  {
   "cell_type": "code",
   "execution_count": 19,
   "metadata": {},
   "outputs": [
    {
     "name": "stdout",
     "output_type": "stream",
     "text": [
      "0.0548\n"
     ]
    }
   ],
   "source": [
    "P = np.round(1 - st.norm.cdf(Zinf),4)\n",
    "print(P)"
   ]
  },
  {
   "cell_type": "markdown",
   "metadata": {},
   "source": [
    "Es decir que la proporción de producto no conforme generado por encima del límite superior de especificación es del 5.48%. El porcentaje es bajo pero no despreciable, aproximadamente 548 unidades defectuosas en cada lote de 10.000 unidades, pero se podría mejorar centrando un poco más el proceso."
   ]
  },
  {
   "cell_type": "markdown",
   "metadata": {},
   "source": [
    "**e) ¿Entre qué valores debería oscilar la media del proceso para que el porcentaje de no conformidad sea a lo sumo 4.0%?**"
   ]
  },
  {
   "cell_type": "markdown",
   "metadata": {},
   "source": [
    "Inicialmente se debe despejar $\\bar{X'}$ de la fórmula de Z estandarizado inferior, así:\n",
    "\n",
    "$$Z_{inf}=\\frac{LIE-\\bar{X'}}{\\sigma'}\\rightarrow\\bar{X'}_{inf}=LIE-\\sigma'Z_{inf}$$\n",
    "\n",
    "Lo mismo ocurre con la formula de Z estandarizado superior:\n",
    "\n",
    "$$Z_{sup}=\\frac{LSE-\\bar{X'}}{\\sigma'}\\rightarrow\\bar{X'}_{sup}=LSE-\\sigma'Z_{sup}$$\n",
    "\n",
    "Donde:\n",
    "* $Z_{inf}$ es el valor de Z estandarizado inferior que representa una probabilidad de 4.0% de obtener producto no conforme por debajo de LIE, y\n",
    "* $Z_{sup}$ es el valor de Z estandarizado superior que representa una probabilidad de 96.0% (100% - 4%) de no obtener inconformidades de producto por encima de LSE.\n",
    "\n",
    "Por lo tanto:"
   ]
  },
  {
   "cell_type": "code",
   "execution_count": 20,
   "metadata": {},
   "outputs": [
    {
     "name": "stdout",
     "output_type": "stream",
     "text": [
      "Zinf = -1.7507 y Zsup = 1.7507\n"
     ]
    }
   ],
   "source": [
    "VO_inf = 0.04\n",
    "Zinf_vo = np.round(st.norm.ppf(VO_inf),4)\n",
    "\n",
    "\n",
    "VO_sup = 1 - VO_inf\n",
    "Zsup_vo = np.round(st.norm.ppf(VO_sup),4)\n",
    "\n",
    "print(\"Zinf = \"+str(Zinf_vo) + \" y Zsup = \" + str(Zsup_vo))"
   ]
  },
  {
   "cell_type": "markdown",
   "metadata": {},
   "source": [
    "Entonces, los valores entre los cuales puede oscilar $\\bar{X'}$ para obtener a lo sumo 4.0% de producto no conforme son:"
   ]
  },
  {
   "cell_type": "code",
   "execution_count": 22,
   "metadata": {},
   "outputs": [
    {
     "name": "stdout",
     "output_type": "stream",
     "text": [
      "Xinf = 867.4 y Xsup = 872.6\n"
     ]
    }
   ],
   "source": [
    "Xinf_vo = np.round(LIE - (Zinf_vo*s),1) # Cuando el proceso entrega 4% de producto no conforme por debajo del límite inferior de especificación.\n",
    "Xsup_vo = np.round(LSE - (Zsup_vo*s),1) # Cuando el proceso entrega 4% de producto no conforme por encima del límite superior de especificación.\n",
    "print(\"Xinf = \" + str(Xinf_vo) + \" y Xsup = \" + str(Xsup_vo))"
   ]
  }
 ],
 "metadata": {
  "kernelspec": {
   "display_name": "Python 3",
   "language": "python",
   "name": "python3"
  },
  "language_info": {
   "codemirror_mode": {
    "name": "ipython",
    "version": 3
   },
   "file_extension": ".py",
   "mimetype": "text/x-python",
   "name": "python",
   "nbconvert_exporter": "python",
   "pygments_lexer": "ipython3",
   "version": "3.7.3"
  }
 },
 "nbformat": 4,
 "nbformat_minor": 2
}
