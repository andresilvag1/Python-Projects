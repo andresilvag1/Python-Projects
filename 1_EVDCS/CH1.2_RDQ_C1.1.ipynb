{
 "cells": [
  {
   "cell_type": "markdown",
   "metadata": {},
   "source": [
    "## Capitulo 1.2: Resumiendo datos cuantitativos"
   ]
  },
  {
   "cell_type": "markdown",
   "metadata": {},
   "source": [
    "### Caso 1.1: Compañia de Envíos (Parte 2 - Datos Cuantitativos)"
   ]
  },
  {
   "cell_type": "markdown",
   "metadata": {},
   "source": [
    "Continuando con el ejemplo aplicado de la compañía de envíos. En este documento vamos a explorar los métodos para el resumen de datos cuantitativos.\n",
    "\n",
    "Tópicos a abordar en este tutorial: \n",
    "* Atributos y variables.\n",
    "* Tipos de variables.\n",
    "* Distribuciones de frecuencia.\n",
    "\n",
    "Inicialmente deberemos importar las librerías necesarias para realizar nuestro análisis:"
   ]
  },
  {
   "cell_type": "code",
   "execution_count": 1,
   "metadata": {},
   "outputs": [],
   "source": [
    "import numpy as np\n",
    "import pandas as pd\n",
    "import math"
   ]
  },
  {
   "cell_type": "markdown",
   "metadata": {},
   "source": [
    "Luego de importar las librerías procederemos a hacer la lectura de un dataset, el archivo a cargar se denomina 'UPDI_CLEAN.csv', el cual es un archivo de tipo '.csv' (Comma Separated Values, o Valores Separados por Comas), resultado de la limpieza y manipulación de datos que se hizo en el ejercicio anterior. Por tanto, volveremos a utilizar pandas como 'pd' y el comando '.read_csv()' para leer el contenido del dataset:"
   ]
  },
  {
   "cell_type": "code",
   "execution_count": 2,
   "metadata": {},
   "outputs": [
    {
     "data": {
      "text/html": [
       "<div>\n",
       "<style scoped>\n",
       "    .dataframe tbody tr th:only-of-type {\n",
       "        vertical-align: middle;\n",
       "    }\n",
       "\n",
       "    .dataframe tbody tr th {\n",
       "        vertical-align: top;\n",
       "    }\n",
       "\n",
       "    .dataframe thead th {\n",
       "        text-align: right;\n",
       "    }\n",
       "</style>\n",
       "<table border=\"1\" class=\"dataframe\">\n",
       "  <thead>\n",
       "    <tr style=\"text-align: right;\">\n",
       "      <th></th>\n",
       "      <th>TYPE</th>\n",
       "      <th>CITY</th>\n",
       "      <th>STATE</th>\n",
       "      <th>ZIP</th>\n",
       "      <th>LATITUDE</th>\n",
       "      <th>LONGITUDE</th>\n",
       "    </tr>\n",
       "    <tr>\n",
       "      <th>FID</th>\n",
       "      <th></th>\n",
       "      <th></th>\n",
       "      <th></th>\n",
       "      <th></th>\n",
       "      <th></th>\n",
       "      <th></th>\n",
       "    </tr>\n",
       "  </thead>\n",
       "  <tbody>\n",
       "    <tr>\n",
       "      <th>1</th>\n",
       "      <td>Self-Service</td>\n",
       "      <td>Tampa</td>\n",
       "      <td>FL</td>\n",
       "      <td>33605</td>\n",
       "      <td>27.956644</td>\n",
       "      <td>-82.439072</td>\n",
       "    </tr>\n",
       "    <tr>\n",
       "      <th>2</th>\n",
       "      <td>Self-Service</td>\n",
       "      <td>Tampa</td>\n",
       "      <td>FL</td>\n",
       "      <td>33606</td>\n",
       "      <td>27.941708</td>\n",
       "      <td>-82.465888</td>\n",
       "    </tr>\n",
       "    <tr>\n",
       "      <th>3</th>\n",
       "      <td>Self-Service</td>\n",
       "      <td>Tampa</td>\n",
       "      <td>FL</td>\n",
       "      <td>33603</td>\n",
       "      <td>27.994389</td>\n",
       "      <td>-82.459439</td>\n",
       "    </tr>\n",
       "    <tr>\n",
       "      <th>4</th>\n",
       "      <td>Authorized Ship Center</td>\n",
       "      <td>Tampa</td>\n",
       "      <td>FL</td>\n",
       "      <td>33604</td>\n",
       "      <td>28.024894</td>\n",
       "      <td>-82.484288</td>\n",
       "    </tr>\n",
       "    <tr>\n",
       "      <th>5</th>\n",
       "      <td>Self-Service</td>\n",
       "      <td>Tampa</td>\n",
       "      <td>FL</td>\n",
       "      <td>33607</td>\n",
       "      <td>27.976984</td>\n",
       "      <td>-82.484789</td>\n",
       "    </tr>\n",
       "  </tbody>\n",
       "</table>\n",
       "</div>"
      ],
      "text/plain": [
       "                       TYPE   CITY STATE    ZIP   LATITUDE  LONGITUDE\n",
       "FID                                                                  \n",
       "1              Self-Service  Tampa    FL  33605  27.956644 -82.439072\n",
       "2              Self-Service  Tampa    FL  33606  27.941708 -82.465888\n",
       "3              Self-Service  Tampa    FL  33603  27.994389 -82.459439\n",
       "4    Authorized Ship Center  Tampa    FL  33604  28.024894 -82.484288\n",
       "5              Self-Service  Tampa    FL  33607  27.976984 -82.484789"
      ]
     },
     "execution_count": 2,
     "metadata": {},
     "output_type": "execute_result"
    }
   ],
   "source": [
    "df0 = pd.read_csv('UPDI_CLEAN.csv', index_col='FID') # index_col se utiliza cuando se requiere utilizar \n",
    "                                                    # una columna como índice, en este caso 'FID'\n",
    "df0.head()"
   ]
  },
  {
   "cell_type": "markdown",
   "metadata": {},
   "source": [
    "#### Variable Cuantitativa - Latitud:"
   ]
  },
  {
   "cell_type": "markdown",
   "metadata": {},
   "source": [
    "Ahora procederemos a tabular las variables cuantitativas del set de datos. La primera es la latitud (como habíamos visto en el ejercicio anterior), por tal motivo lo primero que deberemos realizar es calcular el rango de la variable para conocer qué tan dispersos se encuentran los datos y poder empezar a determinar los intervalos de la tabla de frecuencias agrupadas. Lo anterior quiere decir que ya no se usarán etiquetas o categorías como 'Self-service' o 'NY' sino que procederemos a utilizar intervalos numéricos. A continuación, se determinan los valores mínimo, máximo, y se calcula el rango:"
   ]
  },
  {
   "cell_type": "code",
   "execution_count": 3,
   "metadata": {},
   "outputs": [
    {
     "name": "stdout",
     "output_type": "stream",
     "text": [
      "El valor mínimo de latitud es: 19.0\n",
      "El valor máximo de latitud es: 65.0\n",
      "El rango calculado para latitud es: 46.0\n"
     ]
    }
   ],
   "source": [
    "la_min = round(df0['LATITUDE'].min(),0)\n",
    "print(\"El valor mínimo de latitud es: \" + str(la_min))\n",
    "la_max = round(df0['LATITUDE'].max(),0)\n",
    "print(\"El valor máximo de latitud es: \" + str(la_max))\n",
    "la_range = round(la_max - la_min,2)\n",
    "print(\"El rango calculado para latitud es: \" + str(la_range))"
   ]
  },
  {
   "cell_type": "markdown",
   "metadata": {},
   "source": [
    "Posteriormente se calcula el número de intervalos (o clases) que tendrá la tabla de frecuencias teniendo en cuenta la Regla de Sturges:"
   ]
  },
  {
   "cell_type": "code",
   "execution_count": 4,
   "metadata": {},
   "outputs": [
    {
     "name": "stdout",
     "output_type": "stream",
     "text": [
      "El número de intervalos calculado es: 16.57555136046842\n",
      "El número de intervalos redondeado al entero superior es: 17\n"
     ]
    }
   ],
   "source": [
    "n = df0['LATITUDE'].count() # Tamaño de la muestra\n",
    "\n",
    "factor = 3.322 # factor que es igual (=) a 1/Log(2)\n",
    "\n",
    "la_k = 1 + (factor*np.log10(n)) # Número de intervalos o clases\n",
    "print(\"El número de intervalos calculado es: \" + str(la_k))\n",
    "\n",
    "la_k_rounded = int(math.ceil(la_k)) # Número de intervalos redondeados al entero superior\n",
    "print(\"El número de intervalos redondeado al entero superior es: \" + str(la_k_rounded))"
   ]
  },
  {
   "cell_type": "markdown",
   "metadata": {},
   "source": [
    "Luego de calcular el número de intervalos sugeridos para la tabla de frecuencias, entonces se procede a determinar la amplitud de los intervalos, dada por el cociente entre el rango y el número de intervalos:"
   ]
  },
  {
   "cell_type": "code",
   "execution_count": 5,
   "metadata": {},
   "outputs": [
    {
     "name": "stdout",
     "output_type": "stream",
     "text": [
      "La amplitud del intervalo es: 2.7058823529411766\n",
      "La amplitud del intervalo redondeada al entero superior es: 3\n"
     ]
    }
   ],
   "source": [
    "la_c = la_range/la_k_rounded # Amplitud del intervalo\n",
    "print(\"La amplitud del intervalo es: \" + str(la_c))\n",
    "\n",
    "la_c_rounded = int(math.ceil(la_c)) # Amplitud del intervalo redondeado al enterio superior\n",
    "print(\"La amplitud del intervalo redondeada al entero superior es: \" + str(la_c_rounded))"
   ]
  },
  {
   "cell_type": "markdown",
   "metadata": {},
   "source": [
    "Ya teniendo la amplitud del intervalo, se actualiza el valor del rango y el valor mínimo de la siguiente forma:\n",
    "\n",
    "* El **nuevo rango** ('la_n_range') será el producto de la amplitud y el número de intervalos redondeados al entero superior.\n",
    "* La **diferencia de rangos** ('la_diff_range)' será la resta entre el nuevo rango y el rango calculado inicialmente.\n",
    "* El **nuevo valor mínimo** ('la_n_min') será la diferencia del valor mínimo y la diferencia de rangos dividida entre dos (2) y redondeada al entero inferior.\n",
    "\n",
    "Lo anterior se hace con el fin de ampliar un poco la cobertura de los intervalos y asegurar que ningún valor quede por fuera de los mismos."
   ]
  },
  {
   "cell_type": "code",
   "execution_count": 6,
   "metadata": {},
   "outputs": [
    {
     "name": "stdout",
     "output_type": "stream",
     "text": [
      "El nuevo rango calculado es: 51\n",
      "La diferencia entre rangos es: 5.0\n",
      "El nuevo valor mínimo es: 17.0\n"
     ]
    }
   ],
   "source": [
    "la_n_range = la_c_rounded*la_k_rounded # Nuevo rango\n",
    "print(\"El nuevo rango calculado es: \" + str(la_n_range))\n",
    "\n",
    "la_diff_range = round(la_n_range - la_range,2) # Diferencia entre rangos\n",
    "print(\"La diferencia entre rangos es: \" + str(la_diff_range))\n",
    "\n",
    "la_n_min = la_min - math.floor(la_diff_range/2) # Nuevo valor mínimo\n",
    "print(\"El nuevo valor mínimo es: \" + str(la_n_min))"
   ]
  },
  {
   "cell_type": "markdown",
   "metadata": {},
   "source": [
    "Ya tenemos el nuevo valor mínimo, el número de intervalos y la amplitud del intervalo. Ahora podemos determinar cada uno de los intervalos de la tabla de frecuencia acumulada de la siguiente forma:\n",
    "\n",
    "1. Se crea una lista y un diccionario, ambos vacíos, para almacenar los intervalos:"
   ]
  },
  {
   "cell_type": "code",
   "execution_count": 7,
   "metadata": {},
   "outputs": [],
   "source": [
    "la_intervals = [] # La lista la utilizaremos para crear una nueva columna con los intervalos según el valor de la columna 'LATITUDE'\n",
    "la_dict_intervals = {} # El diccionario lo utilizaremos para crear un histograma de frecuencias y visualizar la distribución"
   ]
  },
  {
   "cell_type": "markdown",
   "metadata": {},
   "source": [
    "2. 1: Comenzaremos creando una función que incluye un ciclo 'for' desde i = 0 hasta el número de intervalos calculados ('range(la_k_rounded)'). No importa que 'range()' no incluya el último valor ya que nos interesa que el ciclo se repita el número de veces equivalente al número de intervalos, y esto se logra porque la función inicia desde cero (0), como en el siguiente ejemplo:"
   ]
  },
  {
   "cell_type": "code",
   "execution_count": 8,
   "metadata": {},
   "outputs": [
    {
     "name": "stdout",
     "output_type": "stream",
     "text": [
      "[0, 1, 2, 3, 4, 5, 6, 7, 8, 9, 10, 11, 12, 13]\n",
      "14\n"
     ]
    }
   ],
   "source": [
    "c_prueba = [i for i in range(14)] # cada uno de los valores i en el rango(14)\n",
    "print(c_prueba) # Se imprimen los valores\n",
    "print(len(c_prueba)) # Se imprime la cantidad de valores almacenados\n",
    "\n",
    "# Nota: A pesar que la función 'range(14)' no incluye el valor '14' como tal en el listado, de todas formas se generan 14 valores."
   ]
  },
  {
   "cell_type": "markdown",
   "metadata": {},
   "source": [
    "2. 2: Por tanto, procedemos a crear la función que llamaremos 'clases':"
   ]
  },
  {
   "cell_type": "code",
   "execution_count": 9,
   "metadata": {},
   "outputs": [
    {
     "name": "stdout",
     "output_type": "stream",
     "text": [
      "El listado de intervalos determinado es: [[17.0, 20.0], [20.0, 23.0], [23.0, 26.0], [26.0, 29.0], [29.0, 32.0], [32.0, 35.0], [35.0, 38.0], [38.0, 41.0], [41.0, 44.0], [44.0, 47.0], [47.0, 50.0], [50.0, 53.0], [53.0, 56.0], [56.0, 59.0], [59.0, 62.0], [62.0, 65.0], [65.0, 68.0]]\n",
      "El diccionario de intervalos creado es: {1: [17.0, 20.0], 2: [20.0, 23.0], 3: [23.0, 26.0], 4: [26.0, 29.0], 5: [29.0, 32.0], 6: [32.0, 35.0], 7: [35.0, 38.0], 8: [38.0, 41.0], 9: [41.0, 44.0], 10: [44.0, 47.0], 11: [47.0, 50.0], 12: [50.0, 53.0], 13: [53.0, 56.0], 14: [56.0, 59.0], 15: [59.0, 62.0], 16: [62.0, 65.0], 17: [65.0, 68.0]}\n"
     ]
    }
   ],
   "source": [
    "def clases(n_min, k_rounded, c_rounded, intervals, dict_intervals):\n",
    "    \n",
    "    d = 0\n",
    "    \n",
    "    for i in range(k_rounded):\n",
    "\n",
    "        interval_j = [] # Se crea una lista interna que almacenará un (1) intervalo cada vez que el ciclo se repita\n",
    "\n",
    "        if d == 0: # Cuando 'd' es igual a cero (0) se debe hacer lo siguiente:\n",
    "\n",
    "            low_lim = n_min # Limite inferior del intervalo será igual al 'nuevo valor mínimo'\n",
    "            up_lim = low_lim + c_rounded # Límite superior del intervalo será igual al límite inferior más (+) la amplitud del intervalo\n",
    "\n",
    "            interval_j.append(round(low_lim,3)) # Se añade el límite inferior (redondeado a 3 cifras) al listado interno\n",
    "            interval_j.append(round(up_lim,3)) # Se añade el límite inferiro (redondeado a 3 cifras) al listado interno\n",
    "\n",
    "            d = d + 1 # Se actualiza el valor del contador sumando (+ 1)\n",
    "\n",
    "        elif d <= (k_rounded - 1): # Cuando 'd' es mayor a 0 y menor o igual al número de inervalos menos (-) uno (1),\n",
    "            # es decir 16, entonces se debe hacer lo siguiente:\n",
    "\n",
    "            low_lim = n_min + d*c_rounded # Límite inferior será igual al 'nuevo valor mínimo' más (+) 'd' veces la amplitud del intervalo\n",
    "            up_lim = low_lim + c_rounded # Límite superior será igual a límite inferior actual más (+) la amplitud del intervalo\n",
    "\n",
    "            interval_j.append(round(low_lim,3)) # Se añade el límite inferior (redondeado a 3 cifras) al listado interno\n",
    "            interval_j.append(round(up_lim,3)) # Se añade el límite superior (redondeado a 3 cifras) al listado interno\n",
    "\n",
    "            d = d + 1 # También se actualiza el valor del contador sumando (+ 1)\n",
    "\n",
    "        else: # Cuando 'd' es mayor a 16 se rompe el ciclo\n",
    "            break\n",
    "            \n",
    "        intervals.append(interval_j)# Se añade el listado interno (intervalo) al listado externo    \n",
    "        dict_intervals[i+1] = interval_j # Se añade el listado interno (intervalo) al diccionario externo, inicia en i + 1 para\n",
    "                                         # almacenar las llaves con valores de 1 a 17 en el diccionario\n",
    "        \n",
    "        # Se repite el ciclo hasta 'range(la_k_rounded)''\n",
    "        \n",
    "    print(\"El listado de intervalos determinado es: \" + str(intervals)) # Se imprime el listado de intervalos\n",
    "    print(\"El diccionario de intervalos creado es: \" + str(dict_intervals)) # Se imprime el diccionario de intervalos\n",
    "    \n",
    "clases(la_n_min, la_k_rounded, la_c_rounded, la_intervals, la_dict_intervals)"
   ]
  },
  {
   "cell_type": "code",
   "execution_count": 10,
   "metadata": {},
   "outputs": [
    {
     "data": {
      "text/plain": [
       "[[17.0, 20.0],\n",
       " [20.0, 23.0],\n",
       " [23.0, 26.0],\n",
       " [26.0, 29.0],\n",
       " [29.0, 32.0],\n",
       " [32.0, 35.0],\n",
       " [35.0, 38.0],\n",
       " [38.0, 41.0],\n",
       " [41.0, 44.0],\n",
       " [44.0, 47.0],\n",
       " [47.0, 50.0],\n",
       " [50.0, 53.0],\n",
       " [53.0, 56.0],\n",
       " [56.0, 59.0],\n",
       " [59.0, 62.0],\n",
       " [62.0, 65.0],\n",
       " [65.0, 68.0]]"
      ]
     },
     "execution_count": 10,
     "metadata": {},
     "output_type": "execute_result"
    }
   ],
   "source": [
    "la_intervals[0:17]"
   ]
  },
  {
   "cell_type": "markdown",
   "metadata": {},
   "source": [
    "Ya habiendo determinado los intervalos de la tabla de frecuencia, es momento de empezar a darle forma a dicha tabla. Lo primero que debemos hacer es crear una nueva columna que permita clasificar cada uno de los valores de la columna 'LATITUDE' con el fin de determinar a qué intervalo pertenece cada valor:"
   ]
  },
  {
   "cell_type": "code",
   "execution_count": 11,
   "metadata": {},
   "outputs": [
    {
     "name": "stdout",
     "output_type": "stream",
     "text": [
      "                         TYPE          CITY STATE   ZIP   LATITUDE  LONGITUDE  \\\n",
      "FID                                                                             \n",
      "48812            Self-Service       Houlton    ME  4730  46.125586 -67.842154   \n",
      "48813  Authorized Ship Center       Houlton    ME  4730  46.150701 -67.840403   \n",
      "48814            Self-Service       Houlton    ME  4730  46.125755 -67.836195   \n",
      "48815            Self-Service       Machias    ME  4654  44.715236 -67.457781   \n",
      "48816            Self-Service     Mars Hill    ME  4758  46.514267 -67.866919   \n",
      "48817                 Staffed  Presque Isle    ME  4769  46.699644 -68.026354   \n",
      "48818            Self-Service  Presque Isle    ME  4769  46.681196 -68.015464   \n",
      "48819  Authorized Ship Center  Presque Isle    ME  4769  46.688198 -68.010493   \n",
      "48820            Self-Service       Caribou    ME  4736  46.860595 -68.008336   \n",
      "48821  Authorized Ship Center     Fort Kent    ME  4743  47.250349 -68.596782   \n",
      "\n",
      "           la_group  \n",
      "FID                  \n",
      "48812  (44.0, 47.0)  \n",
      "48813  (44.0, 47.0)  \n",
      "48814  (44.0, 47.0)  \n",
      "48815  (44.0, 47.0)  \n",
      "48816  (44.0, 47.0)  \n",
      "48817  (44.0, 47.0)  \n",
      "48818  (44.0, 47.0)  \n",
      "48819  (44.0, 47.0)  \n",
      "48820  (44.0, 47.0)  \n",
      "48821  (47.0, 50.0)  \n"
     ]
    }
   ],
   "source": [
    "# Se crea una función 'la_cat' que recibirá un valor 'x' como argumento\n",
    "def la_cat(x):\n",
    "    for i in range(la_k_rounded): # Se inicia el ciclo for desde i = 0 hasta el número de intervalos ('la_k_rounded')\n",
    "        for j in range(1):\n",
    "            if i <= (la_k_rounded - 1): # Cuando i es menor o igual al número de intervalos menos (-) uno (1), es decir 16.\n",
    "                \n",
    "                if la_intervals[i][j] <= x < la_intervals[i][j+1]: # Si el valor 'x' se encuentra dentro del intervalo, entonces:\n",
    "                    return (la_intervals[i][j], la_intervals[i][j+1]) # Se retorna el intervalo como una tupla '()'\n",
    "            \n",
    "            else: # Cuando i es igual a 'la_k_rounded', es decir estamos en el último intervalo\n",
    "                \n",
    "                if la_intervals[i][j] <= x <= la_intervals[i][j+1]: # Si el valor 'x' se encuentra dentro de dicho intervalo, entonces:\n",
    "                    return (la_intervals[i][j], la_intervals[i][j+1]) # Se retorna el intervalo como una tupla '()'\n",
    "\n",
    "df0[\"la_group\"] = df0[\"LATITUDE\"].apply(la_cat) # Se aplica la función 'la_cat' a cada valor de la columna 'LATITUDE' (x) y \n",
    "                                                # Se asigna cada intervalo resultante a la nueva columna 'la_group'\n",
    "\n",
    "print(df0.tail(10)) # Se imprime la cola del dataframe"
   ]
  },
  {
   "cell_type": "code",
   "execution_count": 12,
   "metadata": {},
   "outputs": [
    {
     "data": {
      "text/plain": [
       "0"
      ]
     },
     "execution_count": 12,
     "metadata": {},
     "output_type": "execute_result"
    }
   ],
   "source": [
    "count_null_group = df0[\"la_group\"].isnull().sum()\n",
    "count_null_group # Se verifica que no existan valores nulos dentro de la nueva columna creada"
   ]
  },
  {
   "cell_type": "markdown",
   "metadata": {},
   "source": [
    "Luego de crear la nueva columna 'la_group' entonces manipulamos el dataframe y lo agrupamos con el método '.groupby()', introduciendo como argumento el nombre de la columna y como método agregado '.count()' para que contar los valores dentro de cada intervalo:"
   ]
  },
  {
   "cell_type": "code",
   "execution_count": 13,
   "metadata": {},
   "outputs": [
    {
     "data": {
      "text/html": [
       "<div>\n",
       "<style scoped>\n",
       "    .dataframe tbody tr th:only-of-type {\n",
       "        vertical-align: middle;\n",
       "    }\n",
       "\n",
       "    .dataframe tbody tr th {\n",
       "        vertical-align: top;\n",
       "    }\n",
       "\n",
       "    .dataframe thead th {\n",
       "        text-align: right;\n",
       "    }\n",
       "</style>\n",
       "<table border=\"1\" class=\"dataframe\">\n",
       "  <thead>\n",
       "    <tr style=\"text-align: right;\">\n",
       "      <th></th>\n",
       "      <th>la_fi</th>\n",
       "    </tr>\n",
       "    <tr>\n",
       "      <th>la_group</th>\n",
       "      <th></th>\n",
       "    </tr>\n",
       "  </thead>\n",
       "  <tbody>\n",
       "    <tr>\n",
       "      <th>(17.0, 20.0)</th>\n",
       "      <td>15</td>\n",
       "    </tr>\n",
       "    <tr>\n",
       "      <th>(20.0, 23.0)</th>\n",
       "      <td>102</td>\n",
       "    </tr>\n",
       "    <tr>\n",
       "      <th>(23.0, 26.0)</th>\n",
       "      <td>511</td>\n",
       "    </tr>\n",
       "    <tr>\n",
       "      <th>(26.0, 29.0)</th>\n",
       "      <td>2947</td>\n",
       "    </tr>\n",
       "    <tr>\n",
       "      <th>(29.0, 32.0)</th>\n",
       "      <td>3770</td>\n",
       "    </tr>\n",
       "    <tr>\n",
       "      <th>(32.0, 35.0)</th>\n",
       "      <td>9729</td>\n",
       "    </tr>\n",
       "    <tr>\n",
       "      <th>(35.0, 38.0)</th>\n",
       "      <td>6636</td>\n",
       "    </tr>\n",
       "    <tr>\n",
       "      <th>(38.0, 41.0)</th>\n",
       "      <td>13251</td>\n",
       "    </tr>\n",
       "    <tr>\n",
       "      <th>(41.0, 44.0)</th>\n",
       "      <td>9132</td>\n",
       "    </tr>\n",
       "    <tr>\n",
       "      <th>(44.0, 47.0)</th>\n",
       "      <td>1865</td>\n",
       "    </tr>\n",
       "    <tr>\n",
       "      <th>(47.0, 50.0)</th>\n",
       "      <td>812</td>\n",
       "    </tr>\n",
       "    <tr>\n",
       "      <th>(53.0, 56.0)</th>\n",
       "      <td>2</td>\n",
       "    </tr>\n",
       "    <tr>\n",
       "      <th>(56.0, 59.0)</th>\n",
       "      <td>6</td>\n",
       "    </tr>\n",
       "    <tr>\n",
       "      <th>(59.0, 62.0)</th>\n",
       "      <td>40</td>\n",
       "    </tr>\n",
       "    <tr>\n",
       "      <th>(62.0, 65.0)</th>\n",
       "      <td>3</td>\n",
       "    </tr>\n",
       "  </tbody>\n",
       "</table>\n",
       "</div>"
      ],
      "text/plain": [
       "              la_fi\n",
       "la_group           \n",
       "(17.0, 20.0)     15\n",
       "(20.0, 23.0)    102\n",
       "(23.0, 26.0)    511\n",
       "(26.0, 29.0)   2947\n",
       "(29.0, 32.0)   3770\n",
       "(32.0, 35.0)   9729\n",
       "(35.0, 38.0)   6636\n",
       "(38.0, 41.0)  13251\n",
       "(41.0, 44.0)   9132\n",
       "(44.0, 47.0)   1865\n",
       "(47.0, 50.0)    812\n",
       "(53.0, 56.0)      2\n",
       "(56.0, 59.0)      6\n",
       "(59.0, 62.0)     40\n",
       "(62.0, 65.0)      3"
      ]
     },
     "execution_count": 13,
     "metadata": {},
     "output_type": "execute_result"
    }
   ],
   "source": [
    "df0_gbla = df0[[\"LATITUDE\", \"la_group\"]].groupby(\"la_group\").count()\n",
    "df0_gbla.columns = [\"la_fi\"]\n",
    "df0_gbla"
   ]
  },
  {
   "cell_type": "markdown",
   "metadata": {},
   "source": [
    "Luego de tener la frecuencia absoluta de cada intervalo, se procede a crear un nuevo atributo o columna llamado 'la_mean' donde se almacenará el promedio de valores de cada intervalo, esto hará las veces de la marca de clase:"
   ]
  },
  {
   "cell_type": "code",
   "execution_count": 14,
   "metadata": {},
   "outputs": [
    {
     "data": {
      "text/html": [
       "<div>\n",
       "<style scoped>\n",
       "    .dataframe tbody tr th:only-of-type {\n",
       "        vertical-align: middle;\n",
       "    }\n",
       "\n",
       "    .dataframe tbody tr th {\n",
       "        vertical-align: top;\n",
       "    }\n",
       "\n",
       "    .dataframe thead th {\n",
       "        text-align: right;\n",
       "    }\n",
       "</style>\n",
       "<table border=\"1\" class=\"dataframe\">\n",
       "  <thead>\n",
       "    <tr style=\"text-align: right;\">\n",
       "      <th></th>\n",
       "      <th>la_fi</th>\n",
       "      <th>la_class</th>\n",
       "    </tr>\n",
       "    <tr>\n",
       "      <th>la_group</th>\n",
       "      <th></th>\n",
       "      <th></th>\n",
       "    </tr>\n",
       "  </thead>\n",
       "  <tbody>\n",
       "    <tr>\n",
       "      <th>(17.0, 20.0)</th>\n",
       "      <td>15</td>\n",
       "      <td>19.68</td>\n",
       "    </tr>\n",
       "    <tr>\n",
       "      <th>(20.0, 23.0)</th>\n",
       "      <td>102</td>\n",
       "      <td>21.24</td>\n",
       "    </tr>\n",
       "    <tr>\n",
       "      <th>(23.0, 26.0)</th>\n",
       "      <td>511</td>\n",
       "      <td>25.72</td>\n",
       "    </tr>\n",
       "    <tr>\n",
       "      <th>(26.0, 29.0)</th>\n",
       "      <td>2947</td>\n",
       "      <td>27.39</td>\n",
       "    </tr>\n",
       "    <tr>\n",
       "      <th>(29.0, 32.0)</th>\n",
       "      <td>3770</td>\n",
       "      <td>30.20</td>\n",
       "    </tr>\n",
       "    <tr>\n",
       "      <th>(32.0, 35.0)</th>\n",
       "      <td>9729</td>\n",
       "      <td>33.58</td>\n",
       "    </tr>\n",
       "    <tr>\n",
       "      <th>(35.0, 38.0)</th>\n",
       "      <td>6636</td>\n",
       "      <td>36.45</td>\n",
       "    </tr>\n",
       "    <tr>\n",
       "      <th>(38.0, 41.0)</th>\n",
       "      <td>13251</td>\n",
       "      <td>39.74</td>\n",
       "    </tr>\n",
       "    <tr>\n",
       "      <th>(41.0, 44.0)</th>\n",
       "      <td>9132</td>\n",
       "      <td>42.16</td>\n",
       "    </tr>\n",
       "    <tr>\n",
       "      <th>(44.0, 47.0)</th>\n",
       "      <td>1865</td>\n",
       "      <td>45.19</td>\n",
       "    </tr>\n",
       "    <tr>\n",
       "      <th>(47.0, 50.0)</th>\n",
       "      <td>812</td>\n",
       "      <td>47.71</td>\n",
       "    </tr>\n",
       "    <tr>\n",
       "      <th>(53.0, 56.0)</th>\n",
       "      <td>2</td>\n",
       "      <td>55.36</td>\n",
       "    </tr>\n",
       "    <tr>\n",
       "      <th>(56.0, 59.0)</th>\n",
       "      <td>6</td>\n",
       "      <td>58.11</td>\n",
       "    </tr>\n",
       "    <tr>\n",
       "      <th>(59.0, 62.0)</th>\n",
       "      <td>40</td>\n",
       "      <td>61.00</td>\n",
       "    </tr>\n",
       "    <tr>\n",
       "      <th>(62.0, 65.0)</th>\n",
       "      <td>3</td>\n",
       "      <td>64.84</td>\n",
       "    </tr>\n",
       "  </tbody>\n",
       "</table>\n",
       "</div>"
      ],
      "text/plain": [
       "              la_fi  la_class\n",
       "la_group                     \n",
       "(17.0, 20.0)     15     19.68\n",
       "(20.0, 23.0)    102     21.24\n",
       "(23.0, 26.0)    511     25.72\n",
       "(26.0, 29.0)   2947     27.39\n",
       "(29.0, 32.0)   3770     30.20\n",
       "(32.0, 35.0)   9729     33.58\n",
       "(35.0, 38.0)   6636     36.45\n",
       "(38.0, 41.0)  13251     39.74\n",
       "(41.0, 44.0)   9132     42.16\n",
       "(44.0, 47.0)   1865     45.19\n",
       "(47.0, 50.0)    812     47.71\n",
       "(53.0, 56.0)      2     55.36\n",
       "(56.0, 59.0)      6     58.11\n",
       "(59.0, 62.0)     40     61.00\n",
       "(62.0, 65.0)      3     64.84"
      ]
     },
     "execution_count": 14,
     "metadata": {},
     "output_type": "execute_result"
    }
   ],
   "source": [
    "df0_gbla[\"la_class\"] = round(df0[[\"LATITUDE\", \"la_group\"]].groupby(\"la_group\").mean(),2)\n",
    "df0_gbla"
   ]
  },
  {
   "cell_type": "markdown",
   "metadata": {},
   "source": [
    "Después de crear la marca de clase, entonces podemos crear la columna 'la_hi' que almacenará la frecuencia relativa de los valores de la tabla:"
   ]
  },
  {
   "cell_type": "code",
   "execution_count": 15,
   "metadata": {},
   "outputs": [
    {
     "data": {
      "text/html": [
       "<div>\n",
       "<style scoped>\n",
       "    .dataframe tbody tr th:only-of-type {\n",
       "        vertical-align: middle;\n",
       "    }\n",
       "\n",
       "    .dataframe tbody tr th {\n",
       "        vertical-align: top;\n",
       "    }\n",
       "\n",
       "    .dataframe thead th {\n",
       "        text-align: right;\n",
       "    }\n",
       "</style>\n",
       "<table border=\"1\" class=\"dataframe\">\n",
       "  <thead>\n",
       "    <tr style=\"text-align: right;\">\n",
       "      <th></th>\n",
       "      <th>la_fi</th>\n",
       "      <th>la_class</th>\n",
       "      <th>la_hi</th>\n",
       "    </tr>\n",
       "    <tr>\n",
       "      <th>la_group</th>\n",
       "      <th></th>\n",
       "      <th></th>\n",
       "      <th></th>\n",
       "    </tr>\n",
       "  </thead>\n",
       "  <tbody>\n",
       "    <tr>\n",
       "      <th>(17.0, 20.0)</th>\n",
       "      <td>15</td>\n",
       "      <td>19.68</td>\n",
       "      <td>0.0003</td>\n",
       "    </tr>\n",
       "    <tr>\n",
       "      <th>(20.0, 23.0)</th>\n",
       "      <td>102</td>\n",
       "      <td>21.24</td>\n",
       "      <td>0.0021</td>\n",
       "    </tr>\n",
       "    <tr>\n",
       "      <th>(23.0, 26.0)</th>\n",
       "      <td>511</td>\n",
       "      <td>25.72</td>\n",
       "      <td>0.0105</td>\n",
       "    </tr>\n",
       "    <tr>\n",
       "      <th>(26.0, 29.0)</th>\n",
       "      <td>2947</td>\n",
       "      <td>27.39</td>\n",
       "      <td>0.0604</td>\n",
       "    </tr>\n",
       "    <tr>\n",
       "      <th>(29.0, 32.0)</th>\n",
       "      <td>3770</td>\n",
       "      <td>30.20</td>\n",
       "      <td>0.0772</td>\n",
       "    </tr>\n",
       "    <tr>\n",
       "      <th>(32.0, 35.0)</th>\n",
       "      <td>9729</td>\n",
       "      <td>33.58</td>\n",
       "      <td>0.1993</td>\n",
       "    </tr>\n",
       "    <tr>\n",
       "      <th>(35.0, 38.0)</th>\n",
       "      <td>6636</td>\n",
       "      <td>36.45</td>\n",
       "      <td>0.1359</td>\n",
       "    </tr>\n",
       "    <tr>\n",
       "      <th>(38.0, 41.0)</th>\n",
       "      <td>13251</td>\n",
       "      <td>39.74</td>\n",
       "      <td>0.2714</td>\n",
       "    </tr>\n",
       "    <tr>\n",
       "      <th>(41.0, 44.0)</th>\n",
       "      <td>9132</td>\n",
       "      <td>42.16</td>\n",
       "      <td>0.1871</td>\n",
       "    </tr>\n",
       "    <tr>\n",
       "      <th>(44.0, 47.0)</th>\n",
       "      <td>1865</td>\n",
       "      <td>45.19</td>\n",
       "      <td>0.0382</td>\n",
       "    </tr>\n",
       "    <tr>\n",
       "      <th>(47.0, 50.0)</th>\n",
       "      <td>812</td>\n",
       "      <td>47.71</td>\n",
       "      <td>0.0166</td>\n",
       "    </tr>\n",
       "    <tr>\n",
       "      <th>(53.0, 56.0)</th>\n",
       "      <td>2</td>\n",
       "      <td>55.36</td>\n",
       "      <td>0.0000</td>\n",
       "    </tr>\n",
       "    <tr>\n",
       "      <th>(56.0, 59.0)</th>\n",
       "      <td>6</td>\n",
       "      <td>58.11</td>\n",
       "      <td>0.0001</td>\n",
       "    </tr>\n",
       "    <tr>\n",
       "      <th>(59.0, 62.0)</th>\n",
       "      <td>40</td>\n",
       "      <td>61.00</td>\n",
       "      <td>0.0008</td>\n",
       "    </tr>\n",
       "    <tr>\n",
       "      <th>(62.0, 65.0)</th>\n",
       "      <td>3</td>\n",
       "      <td>64.84</td>\n",
       "      <td>0.0001</td>\n",
       "    </tr>\n",
       "  </tbody>\n",
       "</table>\n",
       "</div>"
      ],
      "text/plain": [
       "              la_fi  la_class   la_hi\n",
       "la_group                             \n",
       "(17.0, 20.0)     15     19.68  0.0003\n",
       "(20.0, 23.0)    102     21.24  0.0021\n",
       "(23.0, 26.0)    511     25.72  0.0105\n",
       "(26.0, 29.0)   2947     27.39  0.0604\n",
       "(29.0, 32.0)   3770     30.20  0.0772\n",
       "(32.0, 35.0)   9729     33.58  0.1993\n",
       "(35.0, 38.0)   6636     36.45  0.1359\n",
       "(38.0, 41.0)  13251     39.74  0.2714\n",
       "(41.0, 44.0)   9132     42.16  0.1871\n",
       "(44.0, 47.0)   1865     45.19  0.0382\n",
       "(47.0, 50.0)    812     47.71  0.0166\n",
       "(53.0, 56.0)      2     55.36  0.0000\n",
       "(56.0, 59.0)      6     58.11  0.0001\n",
       "(59.0, 62.0)     40     61.00  0.0008\n",
       "(62.0, 65.0)      3     64.84  0.0001"
      ]
     },
     "execution_count": 15,
     "metadata": {},
     "output_type": "execute_result"
    }
   ],
   "source": [
    "la_total_count = df0_gbla[\"la_fi\"].sum()\n",
    "df0_gbla[\"la_hi\"] = round(df0_gbla[\"la_fi\"]/la_total_count,4)\n",
    "df0_gbla"
   ]
  },
  {
   "cell_type": "markdown",
   "metadata": {},
   "source": [
    "Seguidamente se procede a calcular la frecuencia absoluta acumulada ('la_Fi') que se refiere a la suma de los valores de frecuencia absoluta a medida que se desciende en la tabla:"
   ]
  },
  {
   "cell_type": "code",
   "execution_count": 16,
   "metadata": {},
   "outputs": [
    {
     "data": {
      "text/html": [
       "<div>\n",
       "<style scoped>\n",
       "    .dataframe tbody tr th:only-of-type {\n",
       "        vertical-align: middle;\n",
       "    }\n",
       "\n",
       "    .dataframe tbody tr th {\n",
       "        vertical-align: top;\n",
       "    }\n",
       "\n",
       "    .dataframe thead th {\n",
       "        text-align: right;\n",
       "    }\n",
       "</style>\n",
       "<table border=\"1\" class=\"dataframe\">\n",
       "  <thead>\n",
       "    <tr style=\"text-align: right;\">\n",
       "      <th></th>\n",
       "      <th>la_fi</th>\n",
       "      <th>la_class</th>\n",
       "      <th>la_hi</th>\n",
       "      <th>la_Fi</th>\n",
       "    </tr>\n",
       "    <tr>\n",
       "      <th>la_group</th>\n",
       "      <th></th>\n",
       "      <th></th>\n",
       "      <th></th>\n",
       "      <th></th>\n",
       "    </tr>\n",
       "  </thead>\n",
       "  <tbody>\n",
       "    <tr>\n",
       "      <th>(17.0, 20.0)</th>\n",
       "      <td>15</td>\n",
       "      <td>19.68</td>\n",
       "      <td>0.0003</td>\n",
       "      <td>15</td>\n",
       "    </tr>\n",
       "    <tr>\n",
       "      <th>(20.0, 23.0)</th>\n",
       "      <td>102</td>\n",
       "      <td>21.24</td>\n",
       "      <td>0.0021</td>\n",
       "      <td>117</td>\n",
       "    </tr>\n",
       "    <tr>\n",
       "      <th>(23.0, 26.0)</th>\n",
       "      <td>511</td>\n",
       "      <td>25.72</td>\n",
       "      <td>0.0105</td>\n",
       "      <td>628</td>\n",
       "    </tr>\n",
       "    <tr>\n",
       "      <th>(26.0, 29.0)</th>\n",
       "      <td>2947</td>\n",
       "      <td>27.39</td>\n",
       "      <td>0.0604</td>\n",
       "      <td>3575</td>\n",
       "    </tr>\n",
       "    <tr>\n",
       "      <th>(29.0, 32.0)</th>\n",
       "      <td>3770</td>\n",
       "      <td>30.20</td>\n",
       "      <td>0.0772</td>\n",
       "      <td>7345</td>\n",
       "    </tr>\n",
       "    <tr>\n",
       "      <th>(32.0, 35.0)</th>\n",
       "      <td>9729</td>\n",
       "      <td>33.58</td>\n",
       "      <td>0.1993</td>\n",
       "      <td>17074</td>\n",
       "    </tr>\n",
       "    <tr>\n",
       "      <th>(35.0, 38.0)</th>\n",
       "      <td>6636</td>\n",
       "      <td>36.45</td>\n",
       "      <td>0.1359</td>\n",
       "      <td>23710</td>\n",
       "    </tr>\n",
       "    <tr>\n",
       "      <th>(38.0, 41.0)</th>\n",
       "      <td>13251</td>\n",
       "      <td>39.74</td>\n",
       "      <td>0.2714</td>\n",
       "      <td>36961</td>\n",
       "    </tr>\n",
       "    <tr>\n",
       "      <th>(41.0, 44.0)</th>\n",
       "      <td>9132</td>\n",
       "      <td>42.16</td>\n",
       "      <td>0.1871</td>\n",
       "      <td>46093</td>\n",
       "    </tr>\n",
       "    <tr>\n",
       "      <th>(44.0, 47.0)</th>\n",
       "      <td>1865</td>\n",
       "      <td>45.19</td>\n",
       "      <td>0.0382</td>\n",
       "      <td>47958</td>\n",
       "    </tr>\n",
       "    <tr>\n",
       "      <th>(47.0, 50.0)</th>\n",
       "      <td>812</td>\n",
       "      <td>47.71</td>\n",
       "      <td>0.0166</td>\n",
       "      <td>48770</td>\n",
       "    </tr>\n",
       "    <tr>\n",
       "      <th>(53.0, 56.0)</th>\n",
       "      <td>2</td>\n",
       "      <td>55.36</td>\n",
       "      <td>0.0000</td>\n",
       "      <td>48772</td>\n",
       "    </tr>\n",
       "    <tr>\n",
       "      <th>(56.0, 59.0)</th>\n",
       "      <td>6</td>\n",
       "      <td>58.11</td>\n",
       "      <td>0.0001</td>\n",
       "      <td>48778</td>\n",
       "    </tr>\n",
       "    <tr>\n",
       "      <th>(59.0, 62.0)</th>\n",
       "      <td>40</td>\n",
       "      <td>61.00</td>\n",
       "      <td>0.0008</td>\n",
       "      <td>48818</td>\n",
       "    </tr>\n",
       "    <tr>\n",
       "      <th>(62.0, 65.0)</th>\n",
       "      <td>3</td>\n",
       "      <td>64.84</td>\n",
       "      <td>0.0001</td>\n",
       "      <td>48821</td>\n",
       "    </tr>\n",
       "  </tbody>\n",
       "</table>\n",
       "</div>"
      ],
      "text/plain": [
       "              la_fi  la_class   la_hi  la_Fi\n",
       "la_group                                    \n",
       "(17.0, 20.0)     15     19.68  0.0003     15\n",
       "(20.0, 23.0)    102     21.24  0.0021    117\n",
       "(23.0, 26.0)    511     25.72  0.0105    628\n",
       "(26.0, 29.0)   2947     27.39  0.0604   3575\n",
       "(29.0, 32.0)   3770     30.20  0.0772   7345\n",
       "(32.0, 35.0)   9729     33.58  0.1993  17074\n",
       "(35.0, 38.0)   6636     36.45  0.1359  23710\n",
       "(38.0, 41.0)  13251     39.74  0.2714  36961\n",
       "(41.0, 44.0)   9132     42.16  0.1871  46093\n",
       "(44.0, 47.0)   1865     45.19  0.0382  47958\n",
       "(47.0, 50.0)    812     47.71  0.0166  48770\n",
       "(53.0, 56.0)      2     55.36  0.0000  48772\n",
       "(56.0, 59.0)      6     58.11  0.0001  48778\n",
       "(59.0, 62.0)     40     61.00  0.0008  48818\n",
       "(62.0, 65.0)      3     64.84  0.0001  48821"
      ]
     },
     "execution_count": 16,
     "metadata": {},
     "output_type": "execute_result"
    }
   ],
   "source": [
    "df0_gbla[\"la_Fi\"] = df0_gbla[\"la_fi\"].cumsum()\n",
    "df0_gbla"
   ]
  },
  {
   "cell_type": "markdown",
   "metadata": {},
   "source": [
    "Lo mismo haremos con la frecuencia relativa, procederemos a calcular la columna acumulada ('la_Hi'):"
   ]
  },
  {
   "cell_type": "code",
   "execution_count": 17,
   "metadata": {},
   "outputs": [
    {
     "data": {
      "text/html": [
       "<div>\n",
       "<style scoped>\n",
       "    .dataframe tbody tr th:only-of-type {\n",
       "        vertical-align: middle;\n",
       "    }\n",
       "\n",
       "    .dataframe tbody tr th {\n",
       "        vertical-align: top;\n",
       "    }\n",
       "\n",
       "    .dataframe thead th {\n",
       "        text-align: right;\n",
       "    }\n",
       "</style>\n",
       "<table border=\"1\" class=\"dataframe\">\n",
       "  <thead>\n",
       "    <tr style=\"text-align: right;\">\n",
       "      <th></th>\n",
       "      <th>la_fi</th>\n",
       "      <th>la_class</th>\n",
       "      <th>la_hi</th>\n",
       "      <th>la_Fi</th>\n",
       "      <th>la_Hi</th>\n",
       "    </tr>\n",
       "    <tr>\n",
       "      <th>la_group</th>\n",
       "      <th></th>\n",
       "      <th></th>\n",
       "      <th></th>\n",
       "      <th></th>\n",
       "      <th></th>\n",
       "    </tr>\n",
       "  </thead>\n",
       "  <tbody>\n",
       "    <tr>\n",
       "      <th>(17.0, 20.0)</th>\n",
       "      <td>15</td>\n",
       "      <td>19.68</td>\n",
       "      <td>0.0003</td>\n",
       "      <td>15</td>\n",
       "      <td>0.0003</td>\n",
       "    </tr>\n",
       "    <tr>\n",
       "      <th>(20.0, 23.0)</th>\n",
       "      <td>102</td>\n",
       "      <td>21.24</td>\n",
       "      <td>0.0021</td>\n",
       "      <td>117</td>\n",
       "      <td>0.0024</td>\n",
       "    </tr>\n",
       "    <tr>\n",
       "      <th>(23.0, 26.0)</th>\n",
       "      <td>511</td>\n",
       "      <td>25.72</td>\n",
       "      <td>0.0105</td>\n",
       "      <td>628</td>\n",
       "      <td>0.0129</td>\n",
       "    </tr>\n",
       "    <tr>\n",
       "      <th>(26.0, 29.0)</th>\n",
       "      <td>2947</td>\n",
       "      <td>27.39</td>\n",
       "      <td>0.0604</td>\n",
       "      <td>3575</td>\n",
       "      <td>0.0733</td>\n",
       "    </tr>\n",
       "    <tr>\n",
       "      <th>(29.0, 32.0)</th>\n",
       "      <td>3770</td>\n",
       "      <td>30.20</td>\n",
       "      <td>0.0772</td>\n",
       "      <td>7345</td>\n",
       "      <td>0.1505</td>\n",
       "    </tr>\n",
       "    <tr>\n",
       "      <th>(32.0, 35.0)</th>\n",
       "      <td>9729</td>\n",
       "      <td>33.58</td>\n",
       "      <td>0.1993</td>\n",
       "      <td>17074</td>\n",
       "      <td>0.3498</td>\n",
       "    </tr>\n",
       "    <tr>\n",
       "      <th>(35.0, 38.0)</th>\n",
       "      <td>6636</td>\n",
       "      <td>36.45</td>\n",
       "      <td>0.1359</td>\n",
       "      <td>23710</td>\n",
       "      <td>0.4857</td>\n",
       "    </tr>\n",
       "    <tr>\n",
       "      <th>(38.0, 41.0)</th>\n",
       "      <td>13251</td>\n",
       "      <td>39.74</td>\n",
       "      <td>0.2714</td>\n",
       "      <td>36961</td>\n",
       "      <td>0.7571</td>\n",
       "    </tr>\n",
       "    <tr>\n",
       "      <th>(41.0, 44.0)</th>\n",
       "      <td>9132</td>\n",
       "      <td>42.16</td>\n",
       "      <td>0.1871</td>\n",
       "      <td>46093</td>\n",
       "      <td>0.9442</td>\n",
       "    </tr>\n",
       "    <tr>\n",
       "      <th>(44.0, 47.0)</th>\n",
       "      <td>1865</td>\n",
       "      <td>45.19</td>\n",
       "      <td>0.0382</td>\n",
       "      <td>47958</td>\n",
       "      <td>0.9824</td>\n",
       "    </tr>\n",
       "    <tr>\n",
       "      <th>(47.0, 50.0)</th>\n",
       "      <td>812</td>\n",
       "      <td>47.71</td>\n",
       "      <td>0.0166</td>\n",
       "      <td>48770</td>\n",
       "      <td>0.9990</td>\n",
       "    </tr>\n",
       "    <tr>\n",
       "      <th>(53.0, 56.0)</th>\n",
       "      <td>2</td>\n",
       "      <td>55.36</td>\n",
       "      <td>0.0000</td>\n",
       "      <td>48772</td>\n",
       "      <td>0.9990</td>\n",
       "    </tr>\n",
       "    <tr>\n",
       "      <th>(56.0, 59.0)</th>\n",
       "      <td>6</td>\n",
       "      <td>58.11</td>\n",
       "      <td>0.0001</td>\n",
       "      <td>48778</td>\n",
       "      <td>0.9991</td>\n",
       "    </tr>\n",
       "    <tr>\n",
       "      <th>(59.0, 62.0)</th>\n",
       "      <td>40</td>\n",
       "      <td>61.00</td>\n",
       "      <td>0.0008</td>\n",
       "      <td>48818</td>\n",
       "      <td>0.9999</td>\n",
       "    </tr>\n",
       "    <tr>\n",
       "      <th>(62.0, 65.0)</th>\n",
       "      <td>3</td>\n",
       "      <td>64.84</td>\n",
       "      <td>0.0001</td>\n",
       "      <td>48821</td>\n",
       "      <td>1.0000</td>\n",
       "    </tr>\n",
       "  </tbody>\n",
       "</table>\n",
       "</div>"
      ],
      "text/plain": [
       "              la_fi  la_class   la_hi  la_Fi   la_Hi\n",
       "la_group                                            \n",
       "(17.0, 20.0)     15     19.68  0.0003     15  0.0003\n",
       "(20.0, 23.0)    102     21.24  0.0021    117  0.0024\n",
       "(23.0, 26.0)    511     25.72  0.0105    628  0.0129\n",
       "(26.0, 29.0)   2947     27.39  0.0604   3575  0.0733\n",
       "(29.0, 32.0)   3770     30.20  0.0772   7345  0.1505\n",
       "(32.0, 35.0)   9729     33.58  0.1993  17074  0.3498\n",
       "(35.0, 38.0)   6636     36.45  0.1359  23710  0.4857\n",
       "(38.0, 41.0)  13251     39.74  0.2714  36961  0.7571\n",
       "(41.0, 44.0)   9132     42.16  0.1871  46093  0.9442\n",
       "(44.0, 47.0)   1865     45.19  0.0382  47958  0.9824\n",
       "(47.0, 50.0)    812     47.71  0.0166  48770  0.9990\n",
       "(53.0, 56.0)      2     55.36  0.0000  48772  0.9990\n",
       "(56.0, 59.0)      6     58.11  0.0001  48778  0.9991\n",
       "(59.0, 62.0)     40     61.00  0.0008  48818  0.9999\n",
       "(62.0, 65.0)      3     64.84  0.0001  48821  1.0000"
      ]
     },
     "execution_count": 17,
     "metadata": {},
     "output_type": "execute_result"
    }
   ],
   "source": [
    "df0_gbla[\"la_Hi\"] = df0_gbla[\"la_hi\"].cumsum()\n",
    "df0_gbla"
   ]
  },
  {
   "cell_type": "markdown",
   "metadata": {},
   "source": [
    "Con esta tabla es posible determinar, por ejemplo, que una gran parte de las instalaciones se encuentran ubicadas dentro del rango de latitud de '(38.0, 41.0)', es decir, 13.251 instalaciones están ubicadas en una latitud mayor o igual a 38.0 y menor que 41.0 según la columna 'la_fi', y eso es equivalente a aproximadamente 27.14% del total de instalaciones de la compañía (columna 'la_hi'). También es posible concluir que, dada la columna 'la_Fi', 36.961 instalaciones se encuentran localizadas en una latitud mayor o igual a 23.0 y menor a 41.0, eso es equivalente al 75.71% de las instalaciones (columna 'la_Hi').\n",
    "\n",
    "Por lo tanto, la tabla de frecuencias acumulada resulta útil para realizar diferentes observaciones con respecto a la distribución de los datos que se encuentran en la columna 'LATITUDE' y podemos ver el comportamiento de dicha variable y donde se centran dichos datos. Por ejemplo, si quisiéramos conocer qué porcentaje de instalaciones se encuentran en una latitud mayor o igual a 26.0 y menor que 50.0, entonces podríamos hacer lo siguiente:"
   ]
  },
  {
   "cell_type": "code",
   "execution_count": 18,
   "metadata": {},
   "outputs": [
    {
     "name": "stdout",
     "output_type": "stream",
     "text": [
      "El porcentaje (%) de instalaciones cuya latitud está entre 26.0 y 50.0 es igual a: la_hi    98.61\n",
      "dtype: float64\n"
     ]
    }
   ],
   "source": [
    "la_26_50 = (df0_gbla.loc[(26.0, 29.0):(47.0, 50.0),['la_hi']].sum())*100 # Se secciona el índice con valores desde 26 hasta 50\n",
    "                                                                         # Y se cruzan con la columna 'la_hi'\n",
    "print(\"El porcentaje (%) de instalaciones cuya latitud está entre 26.0 y 50.0 es igual a: \" + str(la_26_50))"
   ]
  },
  {
   "cell_type": "markdown",
   "metadata": {},
   "source": [
    "Adicionalmente, si quisiéramos calcular el promedio de la variable 'LONGITUDE' solamente es necesario multiplicar cada valor de la marca de clase ('la_class') con la frecuencia relativa ('la_hi') y sumar los productos:"
   ]
  },
  {
   "cell_type": "code",
   "execution_count": 19,
   "metadata": {},
   "outputs": [
    {
     "data": {
      "text/plain": [
       "37.205324000000005"
      ]
     },
     "execution_count": 19,
     "metadata": {},
     "output_type": "execute_result"
    }
   ],
   "source": [
    "la_mean = (df0_gbla[\"la_class\"]*df0_gbla[\"la_hi\"]).sum()\n",
    "la_mean"
   ]
  },
  {
   "cell_type": "markdown",
   "metadata": {},
   "source": [
    "Lo que quiere decir que las instalaciones tienden a estar localizadas en una latitud promedio aproximada de 37,21."
   ]
  },
  {
   "cell_type": "markdown",
   "metadata": {},
   "source": [
    "#### Variable Cuantitativa - Longitud:"
   ]
  },
  {
   "cell_type": "markdown",
   "metadata": {},
   "source": [
    "Seguiremos el mismo procedimiento para crear la tabla de frecuencias agrupadas con la variable 'LONGITUDE' que almacena la coordenada longitud de las instalaciones de la compañía:"
   ]
  },
  {
   "cell_type": "markdown",
   "metadata": {},
   "source": [
    "1. Se calculan los parámetros necesarios para determinar las clases o intervalos:"
   ]
  },
  {
   "cell_type": "code",
   "execution_count": 20,
   "metadata": {},
   "outputs": [
    {
     "name": "stdout",
     "output_type": "stream",
     "text": [
      "El valor mínimo de longitud es: -160.0\n",
      "El valor máximo de longitud es: -67.0\n",
      "El rango de valores para la longitud es: 93.0\n",
      "El número de intervalos determinado es: 16.57555136046842\n",
      "El número de intervalos redondeado al entero superior es: 17\n",
      "La amplitud del intervalo es: 5.470588235294118\n",
      "La amplitud del intervalo redondeada al entero superior es: 6\n",
      "El nuevo rango de valores es: 102\n",
      "La diferencia entre rangos es: 9.0\n",
      "El nuevo valor mínimo es: -164.0\n"
     ]
    }
   ],
   "source": [
    "log_min = round(df0[\"LONGITUDE\"].min(),0)\n",
    "print(\"El valor mínimo de longitud es: \" + str(log_min))\n",
    "log_max = round(df0[\"LONGITUDE\"].max(),0)\n",
    "print(\"El valor máximo de longitud es: \" + str(log_max))\n",
    "log_range = round(log_max - log_min,0)\n",
    "print(\"El rango de valores para la longitud es: \" + str(log_range))\n",
    "\n",
    "n = df0[\"LONGITUDE\"].count()\n",
    "factor = 3.322\n",
    "log_k = 1 + (factor*np.log10(n))\n",
    "print(\"El número de intervalos determinado es: \" + str(log_k))\n",
    "\n",
    "log_k_rounded = int(math.ceil(log_k))\n",
    "print(\"El número de intervalos redondeado al entero superior es: \" + str(log_k_rounded))\n",
    "\n",
    "log_c = log_range/log_k_rounded\n",
    "print(\"La amplitud del intervalo es: \" +str(log_c))\n",
    "\n",
    "log_c_rounded = int(math.ceil(log_c))\n",
    "print(\"La amplitud del intervalo redondeada al entero superior es: \" + str(log_c_rounded))\n",
    "\n",
    "log_n_range = log_c_rounded*log_k_rounded\n",
    "print(\"El nuevo rango de valores es: \" + str(log_n_range))\n",
    "\n",
    "log_diff_range = round(log_n_range - log_range,2)\n",
    "print(\"La diferencia entre rangos es: \" + str(log_diff_range))\n",
    "\n",
    "log_n_min = log_min - math.floor(log_diff_range/2)\n",
    "print(\"El nuevo valor mínimo es: \" + str(log_n_min))"
   ]
  },
  {
   "cell_type": "markdown",
   "metadata": {},
   "source": [
    "2. Se aplica la función definida anteriormente ('clases') para determinar los intervalos de la variable:"
   ]
  },
  {
   "cell_type": "code",
   "execution_count": 21,
   "metadata": {},
   "outputs": [
    {
     "name": "stdout",
     "output_type": "stream",
     "text": [
      "El listado de intervalos determinado es: [[-164.0, -158.0], [-158.0, -152.0], [-152.0, -146.0], [-146.0, -140.0], [-140.0, -134.0], [-134.0, -128.0], [-128.0, -122.0], [-122.0, -116.0], [-116.0, -110.0], [-110.0, -104.0], [-104.0, -98.0], [-98.0, -92.0], [-92.0, -86.0], [-86.0, -80.0], [-80.0, -74.0], [-74.0, -68.0], [-68.0, -62.0]]\n",
      "El diccionario de intervalos creado es: {1: [-164.0, -158.0], 2: [-158.0, -152.0], 3: [-152.0, -146.0], 4: [-146.0, -140.0], 5: [-140.0, -134.0], 6: [-134.0, -128.0], 7: [-128.0, -122.0], 8: [-122.0, -116.0], 9: [-116.0, -110.0], 10: [-110.0, -104.0], 11: [-104.0, -98.0], 12: [-98.0, -92.0], 13: [-92.0, -86.0], 14: [-86.0, -80.0], 15: [-80.0, -74.0], 16: [-74.0, -68.0], 17: [-68.0, -62.0]}\n"
     ]
    }
   ],
   "source": [
    "###\n",
    "log_intervals = []\n",
    "log_dict_intervals = {}\n",
    "\n",
    "clases(log_n_min, log_k_rounded, log_c_rounded, log_intervals, log_dict_intervals)"
   ]
  },
  {
   "cell_type": "markdown",
   "metadata": {},
   "source": [
    "3. Se crea una nueva columna que almacene los intervalos o clases dependiendo del valor de la variable evaluada ('LONGITUDE'):"
   ]
  },
  {
   "cell_type": "code",
   "execution_count": 22,
   "metadata": {},
   "outputs": [
    {
     "name": "stdout",
     "output_type": "stream",
     "text": [
      "                         TYPE          CITY STATE   ZIP   LATITUDE  LONGITUDE  \\\n",
      "FID                                                                             \n",
      "48812            Self-Service       Houlton    ME  4730  46.125586 -67.842154   \n",
      "48813  Authorized Ship Center       Houlton    ME  4730  46.150701 -67.840403   \n",
      "48814            Self-Service       Houlton    ME  4730  46.125755 -67.836195   \n",
      "48815            Self-Service       Machias    ME  4654  44.715236 -67.457781   \n",
      "48816            Self-Service     Mars Hill    ME  4758  46.514267 -67.866919   \n",
      "48817                 Staffed  Presque Isle    ME  4769  46.699644 -68.026354   \n",
      "48818            Self-Service  Presque Isle    ME  4769  46.681196 -68.015464   \n",
      "48819  Authorized Ship Center  Presque Isle    ME  4769  46.688198 -68.010493   \n",
      "48820            Self-Service       Caribou    ME  4736  46.860595 -68.008336   \n",
      "48821  Authorized Ship Center     Fort Kent    ME  4743  47.250349 -68.596782   \n",
      "\n",
      "           la_group       log_group  \n",
      "FID                                  \n",
      "48812  (44.0, 47.0)  (-68.0, -62.0)  \n",
      "48813  (44.0, 47.0)  (-68.0, -62.0)  \n",
      "48814  (44.0, 47.0)  (-68.0, -62.0)  \n",
      "48815  (44.0, 47.0)  (-68.0, -62.0)  \n",
      "48816  (44.0, 47.0)  (-68.0, -62.0)  \n",
      "48817  (44.0, 47.0)  (-74.0, -68.0)  \n",
      "48818  (44.0, 47.0)  (-74.0, -68.0)  \n",
      "48819  (44.0, 47.0)  (-74.0, -68.0)  \n",
      "48820  (44.0, 47.0)  (-74.0, -68.0)  \n",
      "48821  (47.0, 50.0)  (-74.0, -68.0)  \n"
     ]
    }
   ],
   "source": [
    "###\n",
    "def log_cat(x):\n",
    "    for i in range(log_k_rounded):\n",
    "        for j in range(1):\n",
    "            if i <= (log_k_rounded - 1):\n",
    "                if log_intervals[i][j] <= x < log_intervals[i][j+1]:\n",
    "                    return (log_intervals[i][j], log_intervals[i][j+1])\n",
    "                else:\n",
    "                    if log_intervals[i][j] <= x <= log_intervals[i][j+1]:\n",
    "                        return (log_intervals[i][j], log_intervals[i][j+1])\n",
    "\n",
    "df0[\"log_group\"] = df0[\"LONGITUDE\"].apply(log_cat)\n",
    "print(df0.tail(10))"
   ]
  },
  {
   "cell_type": "code",
   "execution_count": 23,
   "metadata": {},
   "outputs": [
    {
     "data": {
      "text/plain": [
       "0"
      ]
     },
     "execution_count": 23,
     "metadata": {},
     "output_type": "execute_result"
    }
   ],
   "source": [
    "count_null_group = df0[\"log_group\"].isnull().sum()\n",
    "count_null_group # Se verifica que no existan valores nulos dentro de la nueva columna creada"
   ]
  },
  {
   "cell_type": "markdown",
   "metadata": {},
   "source": [
    "4. Se agrupa la tabla con base a la nueva columna 'log_group' y determina: frecuencia absoluta, marca de clase, frecuencia relativa, frecuencia absoluta acumulada y frecuencia relativa acumulada:"
   ]
  },
  {
   "cell_type": "code",
   "execution_count": 24,
   "metadata": {},
   "outputs": [
    {
     "data": {
      "text/html": [
       "<div>\n",
       "<style scoped>\n",
       "    .dataframe tbody tr th:only-of-type {\n",
       "        vertical-align: middle;\n",
       "    }\n",
       "\n",
       "    .dataframe tbody tr th {\n",
       "        vertical-align: top;\n",
       "    }\n",
       "\n",
       "    .dataframe thead th {\n",
       "        text-align: right;\n",
       "    }\n",
       "</style>\n",
       "<table border=\"1\" class=\"dataframe\">\n",
       "  <thead>\n",
       "    <tr style=\"text-align: right;\">\n",
       "      <th></th>\n",
       "      <th>lg_fi</th>\n",
       "      <th>lg_class</th>\n",
       "      <th>lg_hi</th>\n",
       "      <th>lg_Fi</th>\n",
       "      <th>lg_Hi</th>\n",
       "    </tr>\n",
       "    <tr>\n",
       "      <th>log_group</th>\n",
       "      <th></th>\n",
       "      <th></th>\n",
       "      <th></th>\n",
       "      <th></th>\n",
       "      <th></th>\n",
       "    </tr>\n",
       "  </thead>\n",
       "  <tbody>\n",
       "    <tr>\n",
       "      <th>(-164.0, -158.0)</th>\n",
       "      <td>15</td>\n",
       "      <td>-158.32</td>\n",
       "      <td>0.0003</td>\n",
       "      <td>15</td>\n",
       "      <td>0.0003</td>\n",
       "    </tr>\n",
       "    <tr>\n",
       "      <th>(-158.0, -152.0)</th>\n",
       "      <td>102</td>\n",
       "      <td>-157.18</td>\n",
       "      <td>0.0021</td>\n",
       "      <td>117</td>\n",
       "      <td>0.0024</td>\n",
       "    </tr>\n",
       "    <tr>\n",
       "      <th>(-152.0, -146.0)</th>\n",
       "      <td>43</td>\n",
       "      <td>-149.83</td>\n",
       "      <td>0.0009</td>\n",
       "      <td>160</td>\n",
       "      <td>0.0033</td>\n",
       "    </tr>\n",
       "    <tr>\n",
       "      <th>(-140.0, -134.0)</th>\n",
       "      <td>6</td>\n",
       "      <td>-134.62</td>\n",
       "      <td>0.0001</td>\n",
       "      <td>166</td>\n",
       "      <td>0.0034</td>\n",
       "    </tr>\n",
       "    <tr>\n",
       "      <th>(-134.0, -128.0)</th>\n",
       "      <td>2</td>\n",
       "      <td>-131.70</td>\n",
       "      <td>0.0000</td>\n",
       "      <td>168</td>\n",
       "      <td>0.0034</td>\n",
       "    </tr>\n",
       "    <tr>\n",
       "      <th>(-128.0, -122.0)</th>\n",
       "      <td>2202</td>\n",
       "      <td>-122.48</td>\n",
       "      <td>0.0451</td>\n",
       "      <td>2370</td>\n",
       "      <td>0.0485</td>\n",
       "    </tr>\n",
       "    <tr>\n",
       "      <th>(-122.0, -116.0)</th>\n",
       "      <td>5384</td>\n",
       "      <td>-118.85</td>\n",
       "      <td>0.1103</td>\n",
       "      <td>7754</td>\n",
       "      <td>0.1588</td>\n",
       "    </tr>\n",
       "    <tr>\n",
       "      <th>(-116.0, -110.0)</th>\n",
       "      <td>1784</td>\n",
       "      <td>-112.57</td>\n",
       "      <td>0.0365</td>\n",
       "      <td>9538</td>\n",
       "      <td>0.1953</td>\n",
       "    </tr>\n",
       "    <tr>\n",
       "      <th>(-110.0, -104.0)</th>\n",
       "      <td>1545</td>\n",
       "      <td>-105.80</td>\n",
       "      <td>0.0316</td>\n",
       "      <td>11083</td>\n",
       "      <td>0.2269</td>\n",
       "    </tr>\n",
       "    <tr>\n",
       "      <th>(-104.0, -98.0)</th>\n",
       "      <td>923</td>\n",
       "      <td>-99.87</td>\n",
       "      <td>0.0189</td>\n",
       "      <td>12006</td>\n",
       "      <td>0.2458</td>\n",
       "    </tr>\n",
       "    <tr>\n",
       "      <th>(-98.0, -92.0)</th>\n",
       "      <td>6333</td>\n",
       "      <td>-95.52</td>\n",
       "      <td>0.1297</td>\n",
       "      <td>18339</td>\n",
       "      <td>0.3755</td>\n",
       "    </tr>\n",
       "    <tr>\n",
       "      <th>(-92.0, -86.0)</th>\n",
       "      <td>6368</td>\n",
       "      <td>-88.41</td>\n",
       "      <td>0.1304</td>\n",
       "      <td>24707</td>\n",
       "      <td>0.5059</td>\n",
       "    </tr>\n",
       "    <tr>\n",
       "      <th>(-86.0, -80.0)</th>\n",
       "      <td>10809</td>\n",
       "      <td>-82.51</td>\n",
       "      <td>0.2214</td>\n",
       "      <td>35516</td>\n",
       "      <td>0.7273</td>\n",
       "    </tr>\n",
       "    <tr>\n",
       "      <th>(-80.0, -74.0)</th>\n",
       "      <td>8603</td>\n",
       "      <td>-76.42</td>\n",
       "      <td>0.1762</td>\n",
       "      <td>44119</td>\n",
       "      <td>0.9035</td>\n",
       "    </tr>\n",
       "    <tr>\n",
       "      <th>(-74.0, -68.0)</th>\n",
       "      <td>4696</td>\n",
       "      <td>-72.41</td>\n",
       "      <td>0.0962</td>\n",
       "      <td>48815</td>\n",
       "      <td>0.9997</td>\n",
       "    </tr>\n",
       "    <tr>\n",
       "      <th>(-68.0, -62.0)</th>\n",
       "      <td>6</td>\n",
       "      <td>-67.69</td>\n",
       "      <td>0.0001</td>\n",
       "      <td>48821</td>\n",
       "      <td>0.9998</td>\n",
       "    </tr>\n",
       "  </tbody>\n",
       "</table>\n",
       "</div>"
      ],
      "text/plain": [
       "                  lg_fi  lg_class   lg_hi  lg_Fi   lg_Hi\n",
       "log_group                                               \n",
       "(-164.0, -158.0)     15   -158.32  0.0003     15  0.0003\n",
       "(-158.0, -152.0)    102   -157.18  0.0021    117  0.0024\n",
       "(-152.0, -146.0)     43   -149.83  0.0009    160  0.0033\n",
       "(-140.0, -134.0)      6   -134.62  0.0001    166  0.0034\n",
       "(-134.0, -128.0)      2   -131.70  0.0000    168  0.0034\n",
       "(-128.0, -122.0)   2202   -122.48  0.0451   2370  0.0485\n",
       "(-122.0, -116.0)   5384   -118.85  0.1103   7754  0.1588\n",
       "(-116.0, -110.0)   1784   -112.57  0.0365   9538  0.1953\n",
       "(-110.0, -104.0)   1545   -105.80  0.0316  11083  0.2269\n",
       "(-104.0, -98.0)     923    -99.87  0.0189  12006  0.2458\n",
       "(-98.0, -92.0)     6333    -95.52  0.1297  18339  0.3755\n",
       "(-92.0, -86.0)     6368    -88.41  0.1304  24707  0.5059\n",
       "(-86.0, -80.0)    10809    -82.51  0.2214  35516  0.7273\n",
       "(-80.0, -74.0)     8603    -76.42  0.1762  44119  0.9035\n",
       "(-74.0, -68.0)     4696    -72.41  0.0962  48815  0.9997\n",
       "(-68.0, -62.0)        6    -67.69  0.0001  48821  0.9998"
      ]
     },
     "execution_count": 24,
     "metadata": {},
     "output_type": "execute_result"
    }
   ],
   "source": [
    "###\n",
    "df0_gblg = df0[[\"LONGITUDE\", \"log_group\"]].groupby(\"log_group\").count()\n",
    "\n",
    "df0_gblg.columns = [\"lg_fi\"]\n",
    "\n",
    "df0_gblg[\"lg_class\"] = round(df0[[\"LONGITUDE\", \"log_group\"]].groupby(\"log_group\").mean(),2)\n",
    "\n",
    "log_total_count = df0_gblg[\"lg_fi\"].sum()\n",
    "\n",
    "df0_gblg[\"lg_hi\"] = round(df0_gblg[\"lg_fi\"]/log_total_count,4)\n",
    "\n",
    "df0_gblg[\"lg_Fi\"] = df0_gblg[\"lg_fi\"].cumsum()\n",
    "\n",
    "df0_gblg[\"lg_Hi\"] = df0_gblg[\"lg_hi\"].cumsum()\n",
    "\n",
    "df0_gblg"
   ]
  },
  {
   "cell_type": "markdown",
   "metadata": {},
   "source": [
    "Con esta tabla es posible decir que una gran parte de las instalaciones se encuentran ubicadas dentro del rango de longitud de '(-86.0, -80.0)', es decir, 10.809 instalaciones están ubicadas en una longitud mayor o igual a -86.0 y menor que -80.0 según la columna 'lg_fi', y eso es equivalente a aproximadamente 22.14% del total de instalaciones de la compañía (columna 'lg_hi'). También es posible concluir que, dada la columna 'la_Fi', 35.516 instalaciones se encuentran localizadas en una longitud mayor o igual a -164.0 y menor a -80.0, eso es equivalente al 72.73% de las instalaciones (columna 'lg_Hi').\n",
    "\n",
    "Por lo que la tabla de frecuencias agrupadas también resulta útil para realizar diferentes observaciones con respecto a la distribución de los datos que se encuentran en la columna 'LONGITUDE' y podemos ver el comportamiento de dicha variable y donde se centran dichos datos. Por ejemplo, si quisiéramos conocer qué porcentaje de instalaciones se encuentran en una longitud mayor o igual a -128.0 y menor que -68.0, entonces podríamos hacer lo siguiente:"
   ]
  },
  {
   "cell_type": "code",
   "execution_count": 25,
   "metadata": {},
   "outputs": [
    {
     "name": "stdout",
     "output_type": "stream",
     "text": [
      "El porcentaje (%) de instalaciones cuya longitud está entre -128.0 y -68.0 es igual a: lg_hi    99.63\n",
      "dtype: float64\n"
     ]
    }
   ],
   "source": [
    "log_128_68 = (df0_gblg.loc[(-128.0, -122.0):(-74.0, -68.0),['lg_hi']].sum())*100 # Se secciona el índice con valores desde -128 hasta -68\n",
    "                                                                                 # Y se cruzan con la columna 'lg_hi'\n",
    "print(\"El porcentaje (%) de instalaciones cuya longitud está entre -128.0 y -68.0 es igual a: \" + str(log_128_68))"
   ]
  },
  {
   "cell_type": "markdown",
   "metadata": {},
   "source": [
    "Adicionalmente, si quisiéramos calcular el promedio de la variable 'LONGITUDE' solamente es necesario multiplicar cada valor de la marca de clase ('lg_class') con la frecuencia relativa ('lg_hi') y sumar los productos:"
   ]
  },
  {
   "cell_type": "code",
   "execution_count": 26,
   "metadata": {},
   "outputs": [
    {
     "data": {
      "text/plain": [
       "-91.121651"
      ]
     },
     "execution_count": 26,
     "metadata": {},
     "output_type": "execute_result"
    }
   ],
   "source": [
    "lg_mean = (df0_gblg[\"lg_class\"]*df0_gblg[\"lg_hi\"]).sum()\n",
    "lg_mean"
   ]
  },
  {
   "cell_type": "markdown",
   "metadata": {},
   "source": [
    "Lo que quiere decir que las instalaciones tienden a estar localizadas en una longitud promedio aproximada de -91,12."
   ]
  },
  {
   "cell_type": "markdown",
   "metadata": {},
   "source": [
    "#### Resumen de las variables cuantitativas:"
   ]
  },
  {
   "cell_type": "markdown",
   "metadata": {},
   "source": [
    "Otro método para determinar las estadísticas más importantes es utilizando el método '.describe()' sobre los atributos 'LATITUDE' y 'LONGITUDE' así:"
   ]
  },
  {
   "cell_type": "markdown",
   "metadata": {},
   "source": [
    "1. Se aplica el método '.describe()' a la columna 'LATITUDE':"
   ]
  },
  {
   "cell_type": "code",
   "execution_count": 27,
   "metadata": {},
   "outputs": [
    {
     "data": {
      "text/plain": [
       "count    48821.000000\n",
       "mean        37.206740\n",
       "std          5.107545\n",
       "min         19.445545\n",
       "25%         33.715309\n",
       "50%         38.406615\n",
       "75%         40.900949\n",
       "max         64.846461\n",
       "Name: LATITUDE, dtype: float64"
      ]
     },
     "execution_count": 27,
     "metadata": {},
     "output_type": "execute_result"
    }
   ],
   "source": [
    "df0[\"LATITUDE\"].describe()"
   ]
  },
  {
   "cell_type": "markdown",
   "metadata": {},
   "source": [
    "Al aplicar el método anterior podemos determinar el número de valores ('count = 48821'), la media ('mean = 37,207'), la desviación estándar ('std = 5,108'), el valor mínimo ('min = 19,446'), el valor máximo ('max = 64,8464') y otras medidas de locación (cuartiles). Y esto resulta muy útil debido a que nos brinda rápidamente información descriptiva clave sobre la variable, por ejemplo, la media calculada anteriormente ('la_mean') es igual a 37,205 que es un valor muy aproximado a la media calculada a través del método '.describe()': 37,207.\n",
    "\n",
    "**Nota:** Cabe resaltar que el resultado obtenido con este método aplicado a una variable categórica como 'STATE' es diferente. Bajo dichas condiciones, el método permite visualizar (aparte de 'count') cuántos valores únicos existen ('unique'), la moda ('top'), y la frecuencia de la moda ('freq')."
   ]
  },
  {
   "cell_type": "markdown",
   "metadata": {},
   "source": [
    "2. Se aplica el método '.describe()' a la columna 'LONGITUDE':"
   ]
  },
  {
   "cell_type": "code",
   "execution_count": 28,
   "metadata": {},
   "outputs": [
    {
     "data": {
      "text/plain": [
       "count    48821.000000\n",
       "mean       -91.142779\n",
       "std         16.193101\n",
       "min       -159.502088\n",
       "25%        -97.764952\n",
       "50%        -86.174104\n",
       "75%        -78.723784\n",
       "max        -67.289981\n",
       "Name: LONGITUDE, dtype: float64"
      ]
     },
     "execution_count": 28,
     "metadata": {},
     "output_type": "execute_result"
    }
   ],
   "source": [
    "df0[\"LONGITUDE\"].describe()"
   ]
  },
  {
   "cell_type": "markdown",
   "metadata": {},
   "source": [
    "Lo mismo ocurre con la variable 'LONGITUDE' al aplicar el método. La media calculada con el método de la tabla de frecuencia agrupada (-91.122) es supremamente similar a la obtenida a través de '.describe()' (-91.143), lo que le brinda confiabilidad y validez a este método de resumen de datos.\n",
    "\n",
    "Finalmente, se guardan las tablas agrupadas con el fin de crear visualizaciones más adelante:"
   ]
  },
  {
   "cell_type": "code",
   "execution_count": 29,
   "metadata": {},
   "outputs": [],
   "source": [
    "PATH_1 = \"DF_GB_LAT.csv\"\n",
    "PATH_2 = \"DF_GB_LOG.csv\"\n",
    "df0_gbla.to_csv(PATH_1)\n",
    "df0_gblg.to_csv(PATH_2)"
   ]
  }
 ],
 "metadata": {
  "kernelspec": {
   "display_name": "Python 3",
   "language": "python",
   "name": "python3"
  },
  "language_info": {
   "codemirror_mode": {
    "name": "ipython",
    "version": 3
   },
   "file_extension": ".py",
   "mimetype": "text/x-python",
   "name": "python",
   "nbconvert_exporter": "python",
   "pygments_lexer": "ipython3",
   "version": "3.7.3"
  }
 },
 "nbformat": 4,
 "nbformat_minor": 2
}
